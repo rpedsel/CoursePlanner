{
 "cells": [
  {
   "cell_type": "code",
   "execution_count": 1,
   "metadata": {},
   "outputs": [
    {
     "data": {
      "application/javascript": [
       "$(\"head\").append($(\"<link/>\").attr({\n",
       "  rel:  \"stylesheet\",\n",
       "  type: \"text/css\",\n",
       "  href: \"https://cdnjs.cloudflare.com/ajax/libs/vis/4.8.2/vis.css\"\n",
       "}));\n",
       "require.config({     paths: {         vis: '//cdnjs.cloudflare.com/ajax/libs/vis/4.8.2/vis.min'     } }); require(['vis'], function(vis) {  window.vis = vis; }); "
      ],
      "text/plain": [
       "<IPython.core.display.Javascript object>"
      ]
     },
     "metadata": {},
     "output_type": "display_data"
    }
   ],
   "source": [
    "from py2neo import Graph,NodeSelector\n",
    "import neo\n",
    "from ipywidgets import *\n",
    "from IPython.display import display, HTML\n",
    "neo.init_notebook_mode()\n",
    "graph = Graph(\"http://localhost:7474/db/data/\")"
   ]
  },
  {
   "cell_type": "code",
   "execution_count": 2,
   "metadata": {},
   "outputs": [
    {
     "data": {
      "application/vnd.jupyter.widget-view+json": {
       "model_id": "f073215acb0a4061bd8254f2ea03a647",
       "version_major": 2,
       "version_minor": 0
      },
      "text/html": [
       "<p>Failed to display Jupyter Widget of type <code>Text</code>.</p>\n",
       "<p>\n",
       "  If you're reading this message in the Jupyter Notebook or JupyterLab Notebook, it may mean\n",
       "  that the widgets JavaScript is still loading. If this message persists, it\n",
       "  likely means that the widgets JavaScript library is either not installed or\n",
       "  not enabled. See the <a href=\"https://ipywidgets.readthedocs.io/en/stable/user_install.html\">Jupyter\n",
       "  Widgets Documentation</a> for setup instructions.\n",
       "</p>\n",
       "<p>\n",
       "  If you're reading this message in another frontend (for example, a static\n",
       "  rendering on GitHub or <a href=\"https://nbviewer.jupyter.org/\">NBViewer</a>),\n",
       "  it may mean that your frontend doesn't currently support widgets.\n",
       "</p>\n"
      ],
      "text/plain": [
       "Text(value='', description='Search:', placeholder='Prgram Name')"
      ]
     },
     "metadata": {},
     "output_type": "display_data"
    }
   ],
   "source": [
    "searchbox = widgets.Text(\n",
    "        placeholder='Prgram Name',\n",
    "        description='Search:',\n",
    "        disabled=False)\n",
    "\n",
    "def value_changed(change):\n",
    "    res = search_program(change.new)\n",
    "    box = program_result(res)\n",
    "    display(box)\n",
    "    value_changed.box = box.children\n",
    "\n",
    "searchbox.observe(value_changed, 'value')\n",
    "\n",
    "display(searchbox)\n"
   ]
  },
  {
   "cell_type": "code",
   "execution_count": 3,
   "metadata": {},
   "outputs": [
    {
     "ename": "NameError",
     "evalue": "name 'button' is not defined",
     "output_type": "error",
     "traceback": [
      "\u001b[0;31m---------------------------------------------------------------------------\u001b[0m",
      "\u001b[0;31mNameError\u001b[0m                                 Traceback (most recent call last)",
      "\u001b[0;32m<ipython-input-3-03bf778caaa5>\u001b[0m in \u001b[0;36m<module>\u001b[0;34m()\u001b[0m\n\u001b[0;32m----> 1\u001b[0;31m \u001b[0mdisplay\u001b[0m\u001b[0;34m(\u001b[0m\u001b[0mbutton\u001b[0m\u001b[0;34m)\u001b[0m\u001b[0;34m\u001b[0m\u001b[0m\n\u001b[0m",
      "\u001b[0;31mNameError\u001b[0m: name 'button' is not defined"
     ]
    }
   ],
   "source": [
    "display(button)"
   ]
  },
  {
   "cell_type": "code",
   "execution_count": 4,
   "metadata": {},
   "outputs": [],
   "source": [
    "def program_result(plist):\n",
    "    items_layout = Layout(\n",
    "        flex='1 1 auto',\n",
    "        width='auto')     # override the default width of the button to 'auto' to let the button grow\n",
    "\n",
    "    box_layout = Layout(\n",
    "        display='flex',\n",
    "        flex_flow='column',\n",
    "        align_items='stretch',\n",
    "        width='60%')\n",
    "    items = [ToggleButton(description=w, layout=items_layout) for w in plist]\n",
    "    return Box(children=items, layout=box_layout)"
   ]
  },
  {
   "cell_type": "code",
   "execution_count": 102,
   "metadata": {
    "scrolled": false
   },
   "outputs": [
    {
     "data": {
      "text/html": [
       "<div id=\"7fb190b4-9312-48e9-b849-666d7f9d6e04\" style=\"height: 400px;\"></div>\n",
       "\n",
       "<script type=\"text/javascript\">\n",
       "\n",
       "    var nodes = [{\"id\": 71372, \"label\": \"\", \"title\": \"{'id': 'pgm00071', 'url': 'http://catalogue.usc.edu/preview_program.php?catoid=7&poid=6359&returnto=2081', 'type': \\\"Bachelor's Degree\\\", 'name': 'Earth Sciences (BA)'}\", \"group\": \"Program\"}, {\"id\": 63009, \"label\": \"\", \"title\": \"{'id': 'GEOL 315', 'description': 'Minerals and their formation in Earth geosystems ; includes discussions of mineral properties , crystal structures , uses and bio geochemical importance .', 'name': 'GEOL 315 L Minerals and Earth Systems'}\", \"group\": \"Course\"}, {\"id\": 62445, \"label\": \"\", \"title\": \"{'id': 'PHYS 135', 'description': 'Fundamental laws and principles of physics emphasizing areas related to life sciences ; prerequisite for biological sciences , medicine , dentistry , and pharmacy . ', 'name': 'PHYS 135ag Physics for the Life Sciences'}\", \"group\": \"Course\"}, {\"id\": 61928, \"label\": \"\", \"title\": \"{'id': 'CHEM 105', 'description': 'Fundamental principles and laws of chemistry ; laboratory work emphasizes quantitative procedures . ', 'name': 'CHEM 105aLg General Chemistry'}\", \"group\": \"Course\"}, {\"id\": 61846, \"label\": \"\", \"title\": \"{'id': 'MATH 118', 'description': 'Derivatives ; extrema . Definite integral ; fundamental theorem of calculus . Extrema and definite integrals for functions of several variables . ', 'name': 'MATH 118gx Fundamental Principles of Calculus'}\", \"group\": \"Course\"}, {\"id\": 61847, \"label\": \"\", \"title\": \"{'id': 'MATH 125', 'description': 'Limits ; continuity , derivatives and applications ; antiderivatives ; the fundamental theorem of calculus ; exponential and logarithmic functions . ', 'name': 'MATH 125g Calculus I'}\", \"group\": \"Course\"}, {\"id\": 62429, \"label\": \"\", \"title\": \"{'id': 'BISC 120', 'description': 'In-depth survey of key topics related to advances in our knowledge of the diversity of life and evolution ; origin of life ; eukaryotes/prokaryotes ; ecology .', 'name': 'BISC 120Lg General Biology : Organismal Biology and Evolution'}\", \"group\": \"Course\"}, {\"id\": 52166, \"label\": \"\", \"title\": \"{'id': 'csr01552', 'image': 'https://d3njjcbhbojbot.cloudfront.net/api/utilities/v1/imageproxy/https://coursera-course-photos.s3.amazonaws.com/cb/19c74048ba11e6a71b9d1c80ed860e/calculus.jpg?auto=format%2Ccompress&dpr=1&w=100&h=100&fit=fill&bg=FFF', 'url': 'http://www.coursera.org/learn/pre-calculus', 'description': 'covers mathematical topics in college algebra, with an emphasis on functions. The course is designed to help prepare students to enroll for a first semester course in single variable calculus.\\\\n\\\\nUpon completing , you will be able to:\\\\n1.       Solve linear and quadratic equations\\\\n2.       Solve some classes of rational and radical equations\\\\n3.       Graph polynomial, rational, piece-wise, exponential and logarithmic functions\\\\n4.       Find integer roots of polynomial equations\\\\n5.       Solve exponential and logarithm equations\\\\n6.       Understand the inverse relations between exponential and logarithm equations\\\\n7.       Compute values of exponential and logarithm expressions using basic properties', 'name': 'Pre-Calculus: Functions'}\", \"group\": \"MOOC\"}, {\"id\": 51117, \"label\": \"\", \"title\": \"{'id': 'csr00476', 'image': 'https://d3njjcbhbojbot.cloudfront.net/api/utilities/v1/imageproxy/https://coursera-misc.s3.amazonaws.com/flex/calculus1.png?auto=format%2Ccompress&dpr=1&w=100&h=100&fit=fill&bg=FFF', 'url': 'http://www.coursera.org/learn/web-development-project', 'description': 'Empty', 'name': 'Calculus One'}\", \"group\": \"MOOC\"}, {\"id\": 52323, \"label\": \"\", \"title\": \"{'id': 'csr01709', 'image': 'https://d3njjcbhbojbot.cloudfront.net/api/utilities/v1/imageproxy/https://coursera-course-photos.s3.amazonaws.com/05/cda840977511e5aa161903ab17f92e/CSV-logo-chapter-5-copy.jpg?auto=format%2Ccompress&dpr=1&w=100&h=100&fit=fill&bg=FFF', 'url': 'http://www.coursera.org/learn/discrete-calculus', 'description': \\\"Calculus is one of the grandest achievements of human thought, explaining everything from planetary orbits to the optimal size of a city to the periodicity of a heartbeat. This brisk course covers the core ideas of single-variable Calculus with emphases on conceptual understanding and applications. The course is ideal for students beginning in the engineering, physical, and social sciences. Distinguishing features of the course include: 1) the introduction and use of Taylor series and approximations from the beginning; 2) a novel synthesis of discrete and continuous forms of Calculus; 3) an emphasis on the conceptual over the computational; and 4) a clear, dynamic, unified approach.\\\\n\\\\nIn this fifth part--part five of five--we cover a calculus for sequences, numerical methods, series and convergence tests, power and Taylor series, and conclude the course with a final exam.  Learners  can earn a certificate in the series by signing up for Coursera's verified certificate program and passing the series' final exam.\\\", 'name': 'Single Variable Calculus'}\", \"group\": \"MOOC\"}, {\"id\": 51289, \"label\": \"\", \"title\": \"{'id': 'csr00652', 'image': 'https://d3njjcbhbojbot.cloudfront.net/api/utilities/v1/imageproxy/https://coursera-course-photos.s3.amazonaws.com/cb/19c74048ba11e6a71b9d1c80ed860e/calculus.jpg?auto=format%2Ccompress&dpr=1&w=100&h=100&fit=fill&bg=FFF', 'url': 'http://www.coursera.org/learn/datasciencemathskills', 'description': 'Data science courses contain mathno avoiding that!  is designed to teach learners the basic math you will need in order to be successful in almost any data science math course and was created for learners who have basic math skills but may not have taken algebra or pre-calculus. Data Science Math Skills introduces the core math that data science is built upon, with no extra complexity, introducing unfamiliar ideas and math symbols one-at-a-time.\\\\nLearners who complete  will master the vocabulary, notation, concepts, and algebra rules that all data scientists must know before moving on to more advanced material.\\\\n\\\\nTopics include:\\\\n~Set theory, including Venn diagrams\\\\n~Properties of the real number line\\\\n~Interval notation and algebra with inequalities\\\\n~Uses for summation and Sigma notation\\\\n~Math on the Cartesian (x,y) plane, slope and distance formulas\\\\n~Graphing and describing functions and their inverses on the x-y plane,\\\\n~The concept of instantaneous rate of change and tangent lines to a curve\\\\n~Exponents, logarithms, and the natural log function.\\\\n~Probability theory, including Bayes theorem.\\\\n\\\\nWhile  is intended as a general introduction to the math skills needed for data science, it can be considered a prerequisite for learners interested in the course, \\\"Mastering Data Analysis in Excel,\\\" which is part of the Excel to MySQL Data Science Specialization.  Learners who master Data Science Math Skills will be fully prepared for success with the more advanced math concepts introduced in \\\"Mastering Data Analysis in Excel.\\\"\\\\nGood luck and we hope you enjoy the course!', 'name': 'Pre-Calculus: Functions'}\", \"group\": \"MOOC\"}, {\"id\": 52430, \"label\": \"\", \"title\": \"{'id': 'csr01816', 'image': 'https://d3njjcbhbojbot.cloudfront.net/api/utilities/v1/imageproxy/https://coursera-misc.s3.amazonaws.com/flex/calculus1.png?auto=format%2Ccompress&dpr=1&w=100&h=100&fit=fill&bg=FFF', 'url': 'http://www.coursera.org/learn/calculus1', 'description': 'Calculus is about the very large, the very small, and how things change. The surprise is that something seemingly so abstract ends up explaining the real world.  Calculus plays a starring role in the biological, physical, and social sciences.  By focusing outside of the classroom, we will see examples of calculus appearing in daily life.\\\\n  is a first and friendly introduction to calculus, suitable for someone who has never seen the subject before, or for someone who has seen some calculus but wants to review the concepts and practice applying those concepts to solve problems.', 'name': 'Calculus One'}\", \"group\": \"MOOC\"}];\n",
       "    var edges = [{\"label\": \"UnderProgram\", \"to\": 63009, \"from\": 71372}, {\"label\": \"UnderProgram\", \"to\": 62445, \"from\": 71372}, {\"label\": \"UnderProgram\", \"to\": 61928, \"from\": 71372}, {\"label\": \"UnderProgram\", \"to\": 61846, \"from\": 71372}, {\"label\": \"UnderProgram\", \"to\": 61847, \"from\": 71372}, {\"label\": \"UnderProgram\", \"to\": 62429, \"from\": 71372}, {\"label\": \"SimilarTo\", \"to\": 52166, \"from\": 61847}, {\"label\": \"SimilarTo\", \"to\": 51117, \"from\": 61847}, {\"label\": \"SimilarTo\", \"to\": 52323, \"from\": 61847}, {\"label\": \"SimilarTo\", \"to\": 51289, \"from\": 61847}, {\"label\": \"SimilarTo\", \"to\": 52430, \"from\": 61847}];\n",
       "\n",
       "    var container = document.getElementById(\"7fb190b4-9312-48e9-b849-666d7f9d6e04\");\n",
       "\n",
       "    var data = {\n",
       "        nodes: nodes,\n",
       "        edges: edges\n",
       "    };\n",
       "\n",
       "    var options = {\n",
       "    nodes: {\n",
       "        shape: 'dot',\n",
       "        size: 25,\n",
       "        font: {\n",
       "            size: 14\n",
       "        }\n",
       "    },\n",
       "    edges: {\n",
       "        font: {\n",
       "            size: 14,\n",
       "            align: 'middle'\n",
       "        },\n",
       "        color: 'gray',\n",
       "        arrows: {\n",
       "            to: {\n",
       "                enabled: true,\n",
       "                scaleFactor: 0.5\n",
       "            }\n",
       "        },\n",
       "        smooth: {\n",
       "            enabled: false\n",
       "        }\n",
       "    },\n",
       "    physics: {\n",
       "        enabled: true\n",
       "        }\n",
       "    };\n",
       "\n",
       "    var network = new vis.Network(container, data, options);\n",
       "\n",
       "</script>\n"
      ],
      "text/plain": [
       "<IPython.core.display.HTML object>"
      ]
     },
     "metadata": {},
     "output_type": "display_data"
    }
   ],
   "source": [
    "button = widgets.Button(description=\"See Detail!\")\n",
    "display(button)\n",
    "\n",
    "def on_button_clicked(b):\n",
    "    for box in value_changed.box:\n",
    "        if box.value == True:\n",
    "            selected = box.description\n",
    "    visualize(selected)\n",
    "\n",
    "button.on_click(on_button_clicked)"
   ]
  },
  {
   "cell_type": "code",
   "execution_count": 5,
   "metadata": {},
   "outputs": [],
   "source": [
    "def refernce_display(clist):\n",
    "    content = '''\n",
    "        <table style=\"width:100%\" bordercolor='lightgreen'>\n",
    "          <tr>\n",
    "            <th style=\"text-align:left\"; width=\"10%;\">Code</th>\n",
    "            <th style=\"text-align:left\"; width=\"30%;\">Name</th> \n",
    "            <th style=\"text-align:left\"; width=\"20%;\">Image</th>\n",
    "            <th style=\"text-align:left\"; width=\"40%;\">MOOC</th>\n",
    "          </tr>\n",
    "          '''\n",
    "    for c in clist:\n",
    "        content += '''\n",
    "            <tr>\n",
    "                <td style=\"text-align:left\";>''' + c['code'] + '''</td>\n",
    "                <td style=\"text-align:left\";>''' + c['name'] + '''</td> \n",
    "                <td><img src=''' + c['image'] + ''' height=\"120px\"; display: inline-block;></td>\n",
    "                <td style=\"text-align:left\";> <a href=\"''' + c['url'] + '''\" target=\"_blank\">''' + c['mooc'] + '''</td></tr>'''\n",
    "    #return content\n",
    "    display(HTML(content))"
   ]
  },
  {
   "cell_type": "code",
   "execution_count": 6,
   "metadata": {},
   "outputs": [],
   "source": [
    "course_list = [\n",
    "    {\n",
    "        \"code\": \"EE 326\",\n",
    "        \"name\": \"EE 326 Lx Essentials of Electrical Engineering\",\n",
    "        \"image\": \"https://encrypted-tbn1.gstatic.com/images?q=tbn:ANd9GcQTD-3KhIVcjDswYkPgJbfktFUuzl9XyLml0XtvjM98jHb2lUKVSeucDJ-P\",\n",
    "        \"mooc\": \"Electrical engineering \",\n",
    "        \"url\": \"https://www.khanacademy.org/science/electrical-engineering\"\n",
    "    },\n",
    "    {\n",
    "        \"code\": \"CE 205\",\n",
    "        \"name\": \"EE 326 Lx Essentials of Electrical Engineering\",\n",
    "        \"image\": \"https://lh6.ggpht.com/9xDuLEr_4CuXcBZVbMQPagaUOvdUOH_T8V4I9Nm9XvDogvR4_yudI60v5_0tWedKx2LInYQiV6KOGqNPXuo=s0#w=436&h=268\",\n",
    "        \"mooc\": \"Electrical engineering \",\n",
    "        \"url\": \"https://www.khanacademy.org/science/electrical-engineering\"\n",
    "    },\n",
    "    {\n",
    "        \"code\": \"CE 205\",\n",
    "        \"name\": \"EE 326 Lx Essentials of Electrical Engineering\",\n",
    "        \"image\": \"https://encrypted-tbn1.gstatic.com/images?q=tbn:ANd9GcQTD-3KhIVcjDswYkPgJbfktFUuzl9XyLml0XtvjM98jHb2lUKVSeucDJ-P\",\n",
    "        \"mooc\": \"Electrical engineering \",\n",
    "        \"url\": \"https://www.khanacademy.org/science/electrical-engineering\"\n",
    "    }\n",
    "]"
   ]
  },
  {
   "cell_type": "code",
   "execution_count": 7,
   "metadata": {
    "scrolled": false
   },
   "outputs": [
    {
     "data": {
      "text/html": [
       "\n",
       "        <table style=\"width:100%\" bordercolor='lightgreen'>\n",
       "          <tr>\n",
       "            <th style=\"text-align:left\"; width=\"10%;\">Code</th>\n",
       "            <th style=\"text-align:left\"; width=\"30%;\">Name</th> \n",
       "            <th style=\"text-align:left\"; width=\"20%;\">Image</th>\n",
       "            <th style=\"text-align:left\"; width=\"40%;\">MOOC</th>\n",
       "          </tr>\n",
       "          \n",
       "            <tr>\n",
       "                <td style=\"text-align:left\";>EE 326</td>\n",
       "                <td style=\"text-align:left\";>EE 326 Lx Essentials of Electrical Engineering</td> \n",
       "                <td><img src=https://encrypted-tbn1.gstatic.com/images?q=tbn:ANd9GcQTD-3KhIVcjDswYkPgJbfktFUuzl9XyLml0XtvjM98jHb2lUKVSeucDJ-P height=\"120px\"; display: inline-block;></td>\n",
       "                <td style=\"text-align:left\";> <a href=\"https://www.khanacademy.org/science/electrical-engineering\" target=\"_blank\">Electrical engineering </td></tr>\n",
       "            <tr>\n",
       "                <td style=\"text-align:left\";>CE 205</td>\n",
       "                <td style=\"text-align:left\";>EE 326 Lx Essentials of Electrical Engineering</td> \n",
       "                <td><img src=https://lh6.ggpht.com/9xDuLEr_4CuXcBZVbMQPagaUOvdUOH_T8V4I9Nm9XvDogvR4_yudI60v5_0tWedKx2LInYQiV6KOGqNPXuo=s0#w=436&h=268 height=\"120px\"; display: inline-block;></td>\n",
       "                <td style=\"text-align:left\";> <a href=\"https://www.khanacademy.org/science/electrical-engineering\" target=\"_blank\">Electrical engineering </td></tr>\n",
       "            <tr>\n",
       "                <td style=\"text-align:left\";>CE 205</td>\n",
       "                <td style=\"text-align:left\";>EE 326 Lx Essentials of Electrical Engineering</td> \n",
       "                <td><img src=https://encrypted-tbn1.gstatic.com/images?q=tbn:ANd9GcQTD-3KhIVcjDswYkPgJbfktFUuzl9XyLml0XtvjM98jHb2lUKVSeucDJ-P height=\"120px\"; display: inline-block;></td>\n",
       "                <td style=\"text-align:left\";> <a href=\"https://www.khanacademy.org/science/electrical-engineering\" target=\"_blank\">Electrical engineering </td></tr>"
      ],
      "text/plain": [
       "<IPython.core.display.HTML object>"
      ]
     },
     "metadata": {},
     "output_type": "display_data"
    }
   ],
   "source": [
    "refernce_display(course_list)"
   ]
  },
  {
   "cell_type": "code",
   "execution_count": null,
   "metadata": {},
   "outputs": [],
   "source": []
  },
  {
   "cell_type": "code",
   "execution_count": 8,
   "metadata": {},
   "outputs": [],
   "source": [
    "def visualize(pname):\n",
    "    query = \"\"\"\n",
    "        MATCH (n:Program{name:'\"\"\"+pname+\"\"\"'})<-[r]-(m)\n",
    "        RETURN n AS source_node,\n",
    "               id(n) AS source_id,\n",
    "               r,\n",
    "               m AS target_node,\n",
    "               id(m) AS target_id\n",
    "        UNION MATCH (p:Program{name:'\"\"\"+pname+\"\"\"'})-[rr]-(n)-[r]-(m:MOOC)\n",
    "        RETURN n AS source_node,\n",
    "               id(n) AS source_id,\n",
    "               r,\n",
    "               m AS target_node,\n",
    "               id(m) AS target_id\n",
    "            \"\"\"\n",
    "    d = graph.run(query)\n",
    "    display(HTML(neo.draw(d,{})))"
   ]
  },
  {
   "cell_type": "code",
   "execution_count": 9,
   "metadata": {},
   "outputs": [],
   "source": [
    "def search_program(keyword):\n",
    "    query = \"MATCH (p:Program) WHERE p.name =~ '(?i).*\"+keyword+\".*' RETURN p LIMIT 10\"\n",
    "    data = graph.data(query)\n",
    "    return [p['p']['name'] for p in data]"
   ]
  },
  {
   "cell_type": "code",
   "execution_count": null,
   "metadata": {},
   "outputs": [],
   "source": []
  }
 ],
 "metadata": {
  "celltoolbar": "Raw Cell Format",
  "kernelspec": {
   "display_name": "Python 3",
   "language": "python",
   "name": "python3"
  },
  "language_info": {
   "codemirror_mode": {
    "name": "ipython",
    "version": 3
   },
   "file_extension": ".py",
   "mimetype": "text/x-python",
   "name": "python",
   "nbconvert_exporter": "python",
   "pygments_lexer": "ipython3",
   "version": "3.6.2"
  },
  "widgets": {
   "state": {
    "160cbd217198488897eb01511ea83bf8": {
     "views": [
      {
       "cell_index": 0
      }
     ]
    },
    "2ea6198aa6c3436db4b70c09c95aec92": {
     "views": [
      {
       "cell_index": 0
      }
     ]
    },
    "398b91375e91490681c946fde026eb32": {
     "views": [
      {
       "cell_index": 1
      }
     ]
    },
    "744f42bb4bd04a2c8f44136a20fa1813": {
     "views": [
      {
       "cell_index": 0
      }
     ]
    },
    "759ac9c4e78e458887692fee5b133f1b": {
     "views": [
      {
       "cell_index": 0
      }
     ]
    },
    "89fc4a599ea4442a8b2c2076ef94b01f": {
     "views": [
      {
       "cell_index": 1
      }
     ]
    },
    "8e42d827d7d541798f52654e73578eca": {
     "views": [
      {
       "cell_index": 0
      }
     ]
    },
    "9dedf2c79cd045838b9a116ba97008ec": {
     "views": [
      {
       "cell_index": 0
      }
     ]
    },
    "af56712c55194be99ee8cef2d6442f0d": {
     "views": [
      {
       "cell_index": 3
      },
      {
       "cell_index": 2
      }
     ]
    },
    "b6120b326f40488fafcec0d12cf26b37": {
     "views": [
      {
       "cell_index": 0
      }
     ]
    },
    "cec6ae8e52d7428b9981288075006a02": {
     "views": [
      {
       "cell_index": 1
      }
     ]
    },
    "d51886ffc10846fdb84c0662acf603b1": {
     "views": [
      {
       "cell_index": 0
      }
     ]
    },
    "db2cef930f1d43adbc3d4453141824e4": {
     "views": [
      {
       "cell_index": 0
      }
     ]
    },
    "e299c8bd597e4b36896250b7d8c1eca1": {
     "views": [
      {
       "cell_index": 0
      }
     ]
    },
    "f60a31ef698346b99e6774ee8e9ade82": {
     "views": [
      {
       "cell_index": 0
      }
     ]
    }
   },
   "version": "1.2.0"
  }
 },
 "nbformat": 4,
 "nbformat_minor": 2
}
