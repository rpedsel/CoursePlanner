{
 "cells": [
  {
   "cell_type": "code",
   "execution_count": 1,
   "metadata": {},
   "outputs": [
    {
     "ename": "ModuleNotFoundError",
     "evalue": "No module named 'py2neo'",
     "output_type": "error",
     "traceback": [
      "\u001b[0;31m---------------------------------------------------------------------------\u001b[0m",
      "\u001b[0;31mModuleNotFoundError\u001b[0m                       Traceback (most recent call last)",
      "\u001b[0;32m<ipython-input-1-9e02c0eb932c>\u001b[0m in \u001b[0;36m<module>\u001b[0;34m()\u001b[0m\n\u001b[0;32m----> 1\u001b[0;31m \u001b[0;32mfrom\u001b[0m \u001b[0mpy2neo\u001b[0m \u001b[0;32mimport\u001b[0m \u001b[0mNode\u001b[0m\u001b[0;34m,\u001b[0m \u001b[0mRelationship\u001b[0m\u001b[0;34m\u001b[0m\u001b[0m\n\u001b[0m",
      "\u001b[0;31mModuleNotFoundError\u001b[0m: No module named 'py2neo'"
     ]
    }
   ],
   "source": [
    "from py2neo import Node, Relationship"
   ]
  },
  {
   "cell_type": "code",
   "execution_count": 2,
   "metadata": {},
   "outputs": [],
   "source": [
    "from py2neo import Node, Relationship"
   ]
  },
  {
   "cell_type": "code",
   "execution_count": 3,
   "metadata": {},
   "outputs": [
    {
     "ename": "SyntaxError",
     "evalue": "EOL while scanning string literal (<ipython-input-3-97d1f78f5db1>, line 1)",
     "output_type": "error",
     "traceback": [
      "\u001b[0;36m  File \u001b[0;32m\"<ipython-input-3-97d1f78f5db1>\"\u001b[0;36m, line \u001b[0;32m1\u001b[0m\n\u001b[0;31m    a = Node(\"Person\", name=\"Alice”)\u001b[0m\n\u001b[0m                                    ^\u001b[0m\n\u001b[0;31mSyntaxError\u001b[0m\u001b[0;31m:\u001b[0m EOL while scanning string literal\n"
     ]
    }
   ],
   "source": [
    "a = Node(\"Person\", name=\"Alice”)\n",
    "b = Node(\"Person\", name=\"Bob”)`\n",
    "ab = Relationship(a, \"KNOWS\", b)"
   ]
  },
  {
   "cell_type": "code",
   "execution_count": 4,
   "metadata": {},
   "outputs": [
    {
     "ename": "SyntaxError",
     "evalue": "EOL while scanning string literal (<ipython-input-4-cc6ba859c4a6>, line 1)",
     "output_type": "error",
     "traceback": [
      "\u001b[0;36m  File \u001b[0;32m\"<ipython-input-4-cc6ba859c4a6>\"\u001b[0;36m, line \u001b[0;32m1\u001b[0m\n\u001b[0;31m    a = Node(\"Person\", name=\"Alice”)\u001b[0m\n\u001b[0m                                    ^\u001b[0m\n\u001b[0;31mSyntaxError\u001b[0m\u001b[0;31m:\u001b[0m EOL while scanning string literal\n"
     ]
    }
   ],
   "source": [
    "a = Node(\"Person\", name=\"Alice”)\n",
    "b = Node(\"Person\", name=\"Bob”)\n",
    "ab = Relationship(a, \"KNOWS\", b)"
   ]
  },
  {
   "cell_type": "code",
   "execution_count": 5,
   "metadata": {},
   "outputs": [],
   "source": [
    "a = Node(\"Per\", name = \"alice\")\n",
    "b = Node(\"Per\", name = \"peter\")\n",
    "ab = Relationship(a, \"knows\", b)"
   ]
  },
  {
   "cell_type": "code",
   "execution_count": 6,
   "metadata": {},
   "outputs": [
    {
     "data": {
      "text/plain": [
       "(alice)-[:knows]->(peter)"
      ]
     },
     "execution_count": 6,
     "metadata": {},
     "output_type": "execute_result"
    }
   ],
   "source": [
    "ab"
   ]
  },
  {
   "cell_type": "code",
   "execution_count": 16,
   "metadata": {},
   "outputs": [],
   "source": [
    "from py2neo import Graph"
   ]
  },
  {
   "cell_type": "code",
   "execution_count": 17,
   "metadata": {},
   "outputs": [],
   "source": [
    "graph = graph_3 = Graph(\"http://localhost:7474/db/data/\")"
   ]
  },
  {
   "cell_type": "code",
   "execution_count": 8,
   "metadata": {},
   "outputs": [
    {
     "data": {
      "text/plain": [
       "[{'a': (ace27e6:Program {id:\"pgm00000\",name:\"Accounting (BS)\",type:\"Bachelor's Degree\",url:\"http://catalogue.usc.edu/preview_program.php?catoid=7&poid=6251&returnto=2081\"})},\n",
       " {'a': (f74f31a:Program {id:\"pgm00001\",name:\"Acting for the Stage, Screen and New Media (BFA)\",type:\"Bachelor's Degree\",url:\"http://catalogue.usc.edu/preview_program.php?catoid=7&poid=7212&returnto=2081\"})},\n",
       " {'a': (d4f3a49:Program {id:\"pgm00002\",name:\"Aerospace Engineering (BS)\",type:\"Bachelor's Degree\",url:\"http://catalogue.usc.edu/preview_program.php?catoid=7&poid=6643&returnto=2081\"})},\n",
       " {'a': (f5c1674:Program {id:\"pgm00003\",name:\"American Popular Culture\",type:\"Bachelor's Degree\",url:\"http://catalogue.usc.edu/preview_program.php?catoid=7&poid=7173&returnto=2081\"})}]"
      ]
     },
     "execution_count": 8,
     "metadata": {},
     "output_type": "execute_result"
    }
   ],
   "source": [
    "graph_3.data(\"MATCH (a:Program) RETURN a LIMIT 4\")\n"
   ]
  },
  {
   "cell_type": "code",
   "execution_count": 4,
   "metadata": {},
   "outputs": [
    {
     "data": {
      "text/plain": [
       "[{'a': (b38f5aa:Program {id:\"pgm00000\",name:\"Accounting (BS)\",type:\"Bachelor's Degree\",url:\"http://catalogue.usc.edu/preview_program.php?catoid=7&poid=6251&returnto=2081\"})},\n",
       " {'a': (b3ab8ca:Program {id:\"pgm00001\",name:\"Acting for the Stage, Screen and New Media (BFA)\",type:\"Bachelor's Degree\",url:\"http://catalogue.usc.edu/preview_program.php?catoid=7&poid=7212&returnto=2081\"})},\n",
       " {'a': (c16af41:Program {id:\"pgm00002\",name:\"Aerospace Engineering (BS)\",type:\"Bachelor's Degree\",url:\"http://catalogue.usc.edu/preview_program.php?catoid=7&poid=6643&returnto=2081\"})},\n",
       " {'a': (fe8220b:Program {id:\"pgm00003\",name:\"American Popular Culture\",type:\"Bachelor's Degree\",url:\"http://catalogue.usc.edu/preview_program.php?catoid=7&poid=7173&returnto=2081\"})}]"
      ]
     },
     "execution_count": 4,
     "metadata": {},
     "output_type": "execute_result"
    }
   ],
   "source": [
    "graph_3.data(\"MATCH (a:Program) RETURN a LIMIT 4\")"
   ]
  },
  {
   "cell_type": "code",
   "execution_count": 11,
   "metadata": {},
   "outputs": [
    {
     "ename": "CypherSyntaxError",
     "evalue": "Variable `program_name` not defined (line 1, column 42 (offset: 41))\n\"MATCH p = ()-[r:UnderProgram]->(n {name: program_name}) RETURN p\"\n                                          ^",
     "output_type": "error",
     "traceback": [
      "\u001b[0;31m---------------------------------------------------------------------------\u001b[0m",
      "\u001b[0;31mCypherSyntaxError\u001b[0m                         Traceback (most recent call last)",
      "\u001b[0;32m<ipython-input-11-f16fe3fe4f2b>\u001b[0m in \u001b[0;36m<module>\u001b[0;34m()\u001b[0m\n\u001b[0;32m----> 1\u001b[0;31m \u001b[0mgraph\u001b[0m\u001b[0;34m.\u001b[0m\u001b[0mdata\u001b[0m\u001b[0;34m(\u001b[0m\u001b[0;34m\"MATCH p = ()-[r:UnderProgram]->(n {name: program_name}) RETURN p\"\u001b[0m\u001b[0;34m)\u001b[0m\u001b[0;34m\u001b[0m\u001b[0m\n\u001b[0m",
      "\u001b[0;32m/usr/local/lib/python3.6/site-packages/py2neo/database/__init__.py\u001b[0m in \u001b[0;36mdata\u001b[0;34m(self, statement, parameters, **kwparameters)\u001b[0m\n\u001b[1;32m    414\u001b[0m         \u001b[0;34m:\u001b[0m\u001b[0mrtype\u001b[0m\u001b[0;34m:\u001b[0m\u001b[0;31m \u001b[0m\u001b[0;31m`\u001b[0m\u001b[0mlist\u001b[0m\u001b[0;31m`\u001b[0m \u001b[0mof\u001b[0m\u001b[0;31m \u001b[0m\u001b[0;31m`\u001b[0m\u001b[0mdict\u001b[0m\u001b[0;31m`\u001b[0m\u001b[0;34m\u001b[0m\u001b[0m\n\u001b[1;32m    415\u001b[0m         \"\"\"\n\u001b[0;32m--> 416\u001b[0;31m         \u001b[0;32mreturn\u001b[0m \u001b[0mself\u001b[0m\u001b[0;34m.\u001b[0m\u001b[0mbegin\u001b[0m\u001b[0;34m(\u001b[0m\u001b[0mautocommit\u001b[0m\u001b[0;34m=\u001b[0m\u001b[0;32mTrue\u001b[0m\u001b[0;34m)\u001b[0m\u001b[0;34m.\u001b[0m\u001b[0mrun\u001b[0m\u001b[0;34m(\u001b[0m\u001b[0mstatement\u001b[0m\u001b[0;34m,\u001b[0m \u001b[0mparameters\u001b[0m\u001b[0;34m,\u001b[0m \u001b[0;34m**\u001b[0m\u001b[0mkwparameters\u001b[0m\u001b[0;34m)\u001b[0m\u001b[0;34m.\u001b[0m\u001b[0mdata\u001b[0m\u001b[0;34m(\u001b[0m\u001b[0;34m)\u001b[0m\u001b[0;34m\u001b[0m\u001b[0m\n\u001b[0m\u001b[1;32m    417\u001b[0m \u001b[0;34m\u001b[0m\u001b[0m\n\u001b[1;32m    418\u001b[0m     \u001b[0;34m@\u001b[0m\u001b[0mproperty\u001b[0m\u001b[0;34m\u001b[0m\u001b[0m\n",
      "\u001b[0;32m/usr/local/lib/python3.6/site-packages/py2neo/database/__init__.py\u001b[0m in \u001b[0;36mrun\u001b[0;34m(self, statement, parameters, **kwparameters)\u001b[0m\n\u001b[1;32m   1275\u001b[0m         \u001b[0mself\u001b[0m\u001b[0;34m.\u001b[0m\u001b[0msources\u001b[0m\u001b[0;34m.\u001b[0m\u001b[0mappend\u001b[0m\u001b[0;34m(\u001b[0m\u001b[0msource\u001b[0m\u001b[0;34m)\u001b[0m\u001b[0;34m\u001b[0m\u001b[0m\n\u001b[1;32m   1276\u001b[0m         \u001b[0;32mif\u001b[0m \u001b[0mself\u001b[0m\u001b[0;34m.\u001b[0m\u001b[0mautocommit\u001b[0m\u001b[0;34m:\u001b[0m\u001b[0;34m\u001b[0m\u001b[0m\n\u001b[0;32m-> 1277\u001b[0;31m             \u001b[0mself\u001b[0m\u001b[0;34m.\u001b[0m\u001b[0mfinish\u001b[0m\u001b[0;34m(\u001b[0m\u001b[0;34m)\u001b[0m\u001b[0;34m\u001b[0m\u001b[0m\n\u001b[0m\u001b[1;32m   1278\u001b[0m         \u001b[0;32mreturn\u001b[0m \u001b[0mCursor\u001b[0m\u001b[0;34m(\u001b[0m\u001b[0msource\u001b[0m\u001b[0;34m)\u001b[0m\u001b[0;34m\u001b[0m\u001b[0m\n\u001b[1;32m   1279\u001b[0m \u001b[0;34m\u001b[0m\u001b[0m\n",
      "\u001b[0;32m/usr/local/lib/python3.6/site-packages/py2neo/database/__init__.py\u001b[0m in \u001b[0;36mfinish\u001b[0;34m(self)\u001b[0m\n\u001b[1;32m   1294\u001b[0m \u001b[0;34m\u001b[0m\u001b[0m\n\u001b[1;32m   1295\u001b[0m     \u001b[0;32mdef\u001b[0m \u001b[0mfinish\u001b[0m\u001b[0;34m(\u001b[0m\u001b[0mself\u001b[0m\u001b[0;34m)\u001b[0m\u001b[0;34m:\u001b[0m\u001b[0;34m\u001b[0m\u001b[0m\n\u001b[0;32m-> 1296\u001b[0;31m         \u001b[0mself\u001b[0m\u001b[0;34m.\u001b[0m\u001b[0m_sync\u001b[0m\u001b[0;34m(\u001b[0m\u001b[0;34m)\u001b[0m\u001b[0;34m\u001b[0m\u001b[0m\n\u001b[0m\u001b[1;32m   1297\u001b[0m         \u001b[0mTransaction\u001b[0m\u001b[0;34m.\u001b[0m\u001b[0mfinish\u001b[0m\u001b[0;34m(\u001b[0m\u001b[0mself\u001b[0m\u001b[0;34m)\u001b[0m\u001b[0;34m\u001b[0m\u001b[0m\n\u001b[1;32m   1298\u001b[0m         \u001b[0mself\u001b[0m\u001b[0;34m.\u001b[0m\u001b[0msession\u001b[0m\u001b[0;34m.\u001b[0m\u001b[0mclose\u001b[0m\u001b[0;34m(\u001b[0m\u001b[0;34m)\u001b[0m\u001b[0;34m\u001b[0m\u001b[0m\n",
      "\u001b[0;32m/usr/local/lib/python3.6/site-packages/py2neo/database/__init__.py\u001b[0m in \u001b[0;36m_sync\u001b[0;34m(self)\u001b[0m\n\u001b[1;32m   1284\u001b[0m             \u001b[0msource\u001b[0m \u001b[0;34m=\u001b[0m \u001b[0mself\u001b[0m\u001b[0;34m.\u001b[0m\u001b[0msources\u001b[0m\u001b[0;34m.\u001b[0m\u001b[0mpop\u001b[0m\u001b[0;34m(\u001b[0m\u001b[0;36m0\u001b[0m\u001b[0;34m)\u001b[0m\u001b[0;34m\u001b[0m\u001b[0m\n\u001b[1;32m   1285\u001b[0m             \u001b[0;32mwhile\u001b[0m \u001b[0;32mnot\u001b[0m \u001b[0msource\u001b[0m\u001b[0;34m.\u001b[0m\u001b[0mloaded\u001b[0m\u001b[0;34m:\u001b[0m\u001b[0;34m\u001b[0m\u001b[0m\n\u001b[0;32m-> 1286\u001b[0;31m                 \u001b[0mconnection\u001b[0m\u001b[0;34m.\u001b[0m\u001b[0mfetch\u001b[0m\u001b[0;34m(\u001b[0m\u001b[0;34m)\u001b[0m\u001b[0;34m\u001b[0m\u001b[0m\n\u001b[0m\u001b[1;32m   1287\u001b[0m \u001b[0;34m\u001b[0m\u001b[0m\n\u001b[1;32m   1288\u001b[0m     \u001b[0;32mdef\u001b[0m \u001b[0m_post\u001b[0m\u001b[0;34m(\u001b[0m\u001b[0mself\u001b[0m\u001b[0;34m,\u001b[0m \u001b[0mcommit\u001b[0m\u001b[0;34m=\u001b[0m\u001b[0;32mFalse\u001b[0m\u001b[0;34m)\u001b[0m\u001b[0;34m:\u001b[0m\u001b[0;34m\u001b[0m\u001b[0m\n",
      "\u001b[0;32m/usr/local/lib/python3.6/site-packages/py2neo/packages/neo4j/v1/bolt.py\u001b[0m in \u001b[0;36mfetch\u001b[0;34m(self)\u001b[0m\n\u001b[1;32m    342\u001b[0m                 \u001b[0;32mpass\u001b[0m\u001b[0;34m\u001b[0m\u001b[0m\n\u001b[1;32m    343\u001b[0m             \u001b[0;32melse\u001b[0m\u001b[0;34m:\u001b[0m\u001b[0;34m\u001b[0m\u001b[0m\n\u001b[0;32m--> 344\u001b[0;31m                 \u001b[0mhandler\u001b[0m\u001b[0;34m(\u001b[0m\u001b[0;34m*\u001b[0m\u001b[0mfields\u001b[0m\u001b[0;34m)\u001b[0m\u001b[0;34m\u001b[0m\u001b[0m\n\u001b[0m\u001b[1;32m    345\u001b[0m         \u001b[0mraw\u001b[0m\u001b[0;34m.\u001b[0m\u001b[0mclose\u001b[0m\u001b[0;34m(\u001b[0m\u001b[0;34m)\u001b[0m\u001b[0;34m\u001b[0m\u001b[0m\n\u001b[1;32m    346\u001b[0m \u001b[0;34m\u001b[0m\u001b[0m\n",
      "\u001b[0;32m/usr/local/lib/python3.6/site-packages/py2neo/database/__init__.py\u001b[0m in \u001b[0;36mon_failure\u001b[0;34m(self, metadata)\u001b[0m\n\u001b[1;32m    959\u001b[0m         \u001b[0;34m:\u001b[0m\u001b[0mparam\u001b[0m \u001b[0mmetadata\u001b[0m\u001b[0;34m:\u001b[0m\u001b[0;34m\u001b[0m\u001b[0m\n\u001b[1;32m    960\u001b[0m         \"\"\"\n\u001b[0;32m--> 961\u001b[0;31m         \u001b[0;32mraise\u001b[0m \u001b[0mGraphError\u001b[0m\u001b[0;34m.\u001b[0m\u001b[0mhydrate\u001b[0m\u001b[0;34m(\u001b[0m\u001b[0mmetadata\u001b[0m\u001b[0;34m)\u001b[0m\u001b[0;34m\u001b[0m\u001b[0m\n\u001b[0m\u001b[1;32m    962\u001b[0m \u001b[0;34m\u001b[0m\u001b[0m\n\u001b[1;32m    963\u001b[0m     \u001b[0;32mdef\u001b[0m \u001b[0mrehydrate\u001b[0m\u001b[0;34m(\u001b[0m\u001b[0mself\u001b[0m\u001b[0;34m,\u001b[0m \u001b[0mobj\u001b[0m\u001b[0;34m,\u001b[0m \u001b[0minst\u001b[0m\u001b[0;34m=\u001b[0m\u001b[0;32mNone\u001b[0m\u001b[0;34m)\u001b[0m\u001b[0;34m:\u001b[0m\u001b[0;34m\u001b[0m\u001b[0m\n",
      "\u001b[0;31mCypherSyntaxError\u001b[0m: Variable `program_name` not defined (line 1, column 42 (offset: 41))\n\"MATCH p = ()-[r:UnderProgram]->(n {name: program_name}) RETURN p\"\n                                          ^"
     ]
    }
   ],
   "source": [
    " graph.data(\"MATCH p = ()-[r:UnderProgram]->(n {name: program_name}) RETURN p\")"
   ]
  },
  {
   "cell_type": "code",
   "execution_count": 6,
   "metadata": {},
   "outputs": [
    {
     "ename": "CypherSyntaxError",
     "evalue": "Variable `program_name` not defined (line 1, column 42 (offset: 41))\n\"MATCH p = ()-[r:UnderProgram]->(n {name: program_name}) RETURN p\"\n                                          ^",
     "output_type": "error",
     "traceback": [
      "\u001b[0;31m---------------------------------------------------------------------------\u001b[0m",
      "\u001b[0;31mCypherSyntaxError\u001b[0m                         Traceback (most recent call last)",
      "\u001b[0;32m<ipython-input-6-4c00fc16d626>\u001b[0m in \u001b[0;36m<module>\u001b[0;34m()\u001b[0m\n\u001b[0;32m----> 1\u001b[0;31m \u001b[0mgraph_3\u001b[0m\u001b[0;34m.\u001b[0m\u001b[0mdata\u001b[0m\u001b[0;34m(\u001b[0m\u001b[0;34m\"MATCH p = ()-[r:UnderProgram]->(n {name: program_name}) RETURN p\"\u001b[0m\u001b[0;34m)\u001b[0m\u001b[0;34m\u001b[0m\u001b[0m\n\u001b[0m",
      "\u001b[0;32m/usr/local/lib/python3.6/site-packages/py2neo/database/__init__.py\u001b[0m in \u001b[0;36mdata\u001b[0;34m(self, statement, parameters, **kwparameters)\u001b[0m\n\u001b[1;32m    414\u001b[0m         \u001b[0;34m:\u001b[0m\u001b[0mrtype\u001b[0m\u001b[0;34m:\u001b[0m\u001b[0;31m \u001b[0m\u001b[0;31m`\u001b[0m\u001b[0mlist\u001b[0m\u001b[0;31m`\u001b[0m \u001b[0mof\u001b[0m\u001b[0;31m \u001b[0m\u001b[0;31m`\u001b[0m\u001b[0mdict\u001b[0m\u001b[0;31m`\u001b[0m\u001b[0;34m\u001b[0m\u001b[0m\n\u001b[1;32m    415\u001b[0m         \"\"\"\n\u001b[0;32m--> 416\u001b[0;31m         \u001b[0;32mreturn\u001b[0m \u001b[0mself\u001b[0m\u001b[0;34m.\u001b[0m\u001b[0mbegin\u001b[0m\u001b[0;34m(\u001b[0m\u001b[0mautocommit\u001b[0m\u001b[0;34m=\u001b[0m\u001b[0;32mTrue\u001b[0m\u001b[0;34m)\u001b[0m\u001b[0;34m.\u001b[0m\u001b[0mrun\u001b[0m\u001b[0;34m(\u001b[0m\u001b[0mstatement\u001b[0m\u001b[0;34m,\u001b[0m \u001b[0mparameters\u001b[0m\u001b[0;34m,\u001b[0m \u001b[0;34m**\u001b[0m\u001b[0mkwparameters\u001b[0m\u001b[0;34m)\u001b[0m\u001b[0;34m.\u001b[0m\u001b[0mdata\u001b[0m\u001b[0;34m(\u001b[0m\u001b[0;34m)\u001b[0m\u001b[0;34m\u001b[0m\u001b[0m\n\u001b[0m\u001b[1;32m    417\u001b[0m \u001b[0;34m\u001b[0m\u001b[0m\n\u001b[1;32m    418\u001b[0m     \u001b[0;34m@\u001b[0m\u001b[0mproperty\u001b[0m\u001b[0;34m\u001b[0m\u001b[0m\n",
      "\u001b[0;32m/usr/local/lib/python3.6/site-packages/py2neo/database/__init__.py\u001b[0m in \u001b[0;36mrun\u001b[0;34m(self, statement, parameters, **kwparameters)\u001b[0m\n\u001b[1;32m   1275\u001b[0m         \u001b[0mself\u001b[0m\u001b[0;34m.\u001b[0m\u001b[0msources\u001b[0m\u001b[0;34m.\u001b[0m\u001b[0mappend\u001b[0m\u001b[0;34m(\u001b[0m\u001b[0msource\u001b[0m\u001b[0;34m)\u001b[0m\u001b[0;34m\u001b[0m\u001b[0m\n\u001b[1;32m   1276\u001b[0m         \u001b[0;32mif\u001b[0m \u001b[0mself\u001b[0m\u001b[0;34m.\u001b[0m\u001b[0mautocommit\u001b[0m\u001b[0;34m:\u001b[0m\u001b[0;34m\u001b[0m\u001b[0m\n\u001b[0;32m-> 1277\u001b[0;31m             \u001b[0mself\u001b[0m\u001b[0;34m.\u001b[0m\u001b[0mfinish\u001b[0m\u001b[0;34m(\u001b[0m\u001b[0;34m)\u001b[0m\u001b[0;34m\u001b[0m\u001b[0m\n\u001b[0m\u001b[1;32m   1278\u001b[0m         \u001b[0;32mreturn\u001b[0m \u001b[0mCursor\u001b[0m\u001b[0;34m(\u001b[0m\u001b[0msource\u001b[0m\u001b[0;34m)\u001b[0m\u001b[0;34m\u001b[0m\u001b[0m\n\u001b[1;32m   1279\u001b[0m \u001b[0;34m\u001b[0m\u001b[0m\n",
      "\u001b[0;32m/usr/local/lib/python3.6/site-packages/py2neo/database/__init__.py\u001b[0m in \u001b[0;36mfinish\u001b[0;34m(self)\u001b[0m\n\u001b[1;32m   1294\u001b[0m \u001b[0;34m\u001b[0m\u001b[0m\n\u001b[1;32m   1295\u001b[0m     \u001b[0;32mdef\u001b[0m \u001b[0mfinish\u001b[0m\u001b[0;34m(\u001b[0m\u001b[0mself\u001b[0m\u001b[0;34m)\u001b[0m\u001b[0;34m:\u001b[0m\u001b[0;34m\u001b[0m\u001b[0m\n\u001b[0;32m-> 1296\u001b[0;31m         \u001b[0mself\u001b[0m\u001b[0;34m.\u001b[0m\u001b[0m_sync\u001b[0m\u001b[0;34m(\u001b[0m\u001b[0;34m)\u001b[0m\u001b[0;34m\u001b[0m\u001b[0m\n\u001b[0m\u001b[1;32m   1297\u001b[0m         \u001b[0mTransaction\u001b[0m\u001b[0;34m.\u001b[0m\u001b[0mfinish\u001b[0m\u001b[0;34m(\u001b[0m\u001b[0mself\u001b[0m\u001b[0;34m)\u001b[0m\u001b[0;34m\u001b[0m\u001b[0m\n\u001b[1;32m   1298\u001b[0m         \u001b[0mself\u001b[0m\u001b[0;34m.\u001b[0m\u001b[0msession\u001b[0m\u001b[0;34m.\u001b[0m\u001b[0mclose\u001b[0m\u001b[0;34m(\u001b[0m\u001b[0;34m)\u001b[0m\u001b[0;34m\u001b[0m\u001b[0m\n",
      "\u001b[0;32m/usr/local/lib/python3.6/site-packages/py2neo/database/__init__.py\u001b[0m in \u001b[0;36m_sync\u001b[0;34m(self)\u001b[0m\n\u001b[1;32m   1284\u001b[0m             \u001b[0msource\u001b[0m \u001b[0;34m=\u001b[0m \u001b[0mself\u001b[0m\u001b[0;34m.\u001b[0m\u001b[0msources\u001b[0m\u001b[0;34m.\u001b[0m\u001b[0mpop\u001b[0m\u001b[0;34m(\u001b[0m\u001b[0;36m0\u001b[0m\u001b[0;34m)\u001b[0m\u001b[0;34m\u001b[0m\u001b[0m\n\u001b[1;32m   1285\u001b[0m             \u001b[0;32mwhile\u001b[0m \u001b[0;32mnot\u001b[0m \u001b[0msource\u001b[0m\u001b[0;34m.\u001b[0m\u001b[0mloaded\u001b[0m\u001b[0;34m:\u001b[0m\u001b[0;34m\u001b[0m\u001b[0m\n\u001b[0;32m-> 1286\u001b[0;31m                 \u001b[0mconnection\u001b[0m\u001b[0;34m.\u001b[0m\u001b[0mfetch\u001b[0m\u001b[0;34m(\u001b[0m\u001b[0;34m)\u001b[0m\u001b[0;34m\u001b[0m\u001b[0m\n\u001b[0m\u001b[1;32m   1287\u001b[0m \u001b[0;34m\u001b[0m\u001b[0m\n\u001b[1;32m   1288\u001b[0m     \u001b[0;32mdef\u001b[0m \u001b[0m_post\u001b[0m\u001b[0;34m(\u001b[0m\u001b[0mself\u001b[0m\u001b[0;34m,\u001b[0m \u001b[0mcommit\u001b[0m\u001b[0;34m=\u001b[0m\u001b[0;32mFalse\u001b[0m\u001b[0;34m)\u001b[0m\u001b[0;34m:\u001b[0m\u001b[0;34m\u001b[0m\u001b[0m\n",
      "\u001b[0;32m/usr/local/lib/python3.6/site-packages/py2neo/packages/neo4j/v1/bolt.py\u001b[0m in \u001b[0;36mfetch\u001b[0;34m(self)\u001b[0m\n\u001b[1;32m    342\u001b[0m                 \u001b[0;32mpass\u001b[0m\u001b[0;34m\u001b[0m\u001b[0m\n\u001b[1;32m    343\u001b[0m             \u001b[0;32melse\u001b[0m\u001b[0;34m:\u001b[0m\u001b[0;34m\u001b[0m\u001b[0m\n\u001b[0;32m--> 344\u001b[0;31m                 \u001b[0mhandler\u001b[0m\u001b[0;34m(\u001b[0m\u001b[0;34m*\u001b[0m\u001b[0mfields\u001b[0m\u001b[0;34m)\u001b[0m\u001b[0;34m\u001b[0m\u001b[0m\n\u001b[0m\u001b[1;32m    345\u001b[0m         \u001b[0mraw\u001b[0m\u001b[0;34m.\u001b[0m\u001b[0mclose\u001b[0m\u001b[0;34m(\u001b[0m\u001b[0;34m)\u001b[0m\u001b[0;34m\u001b[0m\u001b[0m\n\u001b[1;32m    346\u001b[0m \u001b[0;34m\u001b[0m\u001b[0m\n",
      "\u001b[0;32m/usr/local/lib/python3.6/site-packages/py2neo/database/__init__.py\u001b[0m in \u001b[0;36mon_failure\u001b[0;34m(self, metadata)\u001b[0m\n\u001b[1;32m    959\u001b[0m         \u001b[0;34m:\u001b[0m\u001b[0mparam\u001b[0m \u001b[0mmetadata\u001b[0m\u001b[0;34m:\u001b[0m\u001b[0;34m\u001b[0m\u001b[0m\n\u001b[1;32m    960\u001b[0m         \"\"\"\n\u001b[0;32m--> 961\u001b[0;31m         \u001b[0;32mraise\u001b[0m \u001b[0mGraphError\u001b[0m\u001b[0;34m.\u001b[0m\u001b[0mhydrate\u001b[0m\u001b[0;34m(\u001b[0m\u001b[0mmetadata\u001b[0m\u001b[0;34m)\u001b[0m\u001b[0;34m\u001b[0m\u001b[0m\n\u001b[0m\u001b[1;32m    962\u001b[0m \u001b[0;34m\u001b[0m\u001b[0m\n\u001b[1;32m    963\u001b[0m     \u001b[0;32mdef\u001b[0m \u001b[0mrehydrate\u001b[0m\u001b[0;34m(\u001b[0m\u001b[0mself\u001b[0m\u001b[0;34m,\u001b[0m \u001b[0mobj\u001b[0m\u001b[0;34m,\u001b[0m \u001b[0minst\u001b[0m\u001b[0;34m=\u001b[0m\u001b[0;32mNone\u001b[0m\u001b[0;34m)\u001b[0m\u001b[0;34m:\u001b[0m\u001b[0;34m\u001b[0m\u001b[0m\n",
      "\u001b[0;31mCypherSyntaxError\u001b[0m: Variable `program_name` not defined (line 1, column 42 (offset: 41))\n\"MATCH p = ()-[r:UnderProgram]->(n {name: program_name}) RETURN p\"\n                                          ^"
     ]
    }
   ],
   "source": [
    " graph_3.data(\"MATCH p = ()-[r:UnderProgram]->(n {name: program_name}) RETURN p\")"
   ]
  },
  {
   "cell_type": "code",
   "execution_count": 7,
   "metadata": {},
   "outputs": [
    {
     "ename": "SyntaxError",
     "evalue": "invalid syntax (<ipython-input-7-ffdb78b12c7a>, line 1)",
     "output_type": "error",
     "traceback": [
      "\u001b[0;36m  File \u001b[0;32m\"<ipython-input-7-ffdb78b12c7a>\"\u001b[0;36m, line \u001b[0;32m1\u001b[0m\n\u001b[0;31m    graph_3.data(\"MATCH p = ()-[r:UnderProgram]->(n {name: \"Accounting (BS)\"}) RETURN p\")\u001b[0m\n\u001b[0m                                                                     ^\u001b[0m\n\u001b[0;31mSyntaxError\u001b[0m\u001b[0;31m:\u001b[0m invalid syntax\n"
     ]
    }
   ],
   "source": [
    " graph_3.data(\"MATCH p = ()-[r:UnderProgram]->(n {name: \"Accounting (BS)\"}) RETURN p\")"
   ]
  },
  {
   "cell_type": "code",
   "execution_count": 8,
   "metadata": {},
   "outputs": [
    {
     "data": {
      "text/plain": [
       "[{'p': (e660105)-[:UnderProgram]->(b38f5aa)},\n",
       " {'p': (cc1aee9)-[:UnderProgram]->(b38f5aa)},\n",
       " {'p': (c11871c)-[:UnderProgram]->(b38f5aa)},\n",
       " {'p': (ebccd04)-[:UnderProgram]->(b38f5aa)},\n",
       " {'p': (a20ef3b)-[:UnderProgram]->(b38f5aa)},\n",
       " {'p': (f04b199)-[:UnderProgram]->(b38f5aa)},\n",
       " {'p': (fee484c)-[:UnderProgram]->(b38f5aa)},\n",
       " {'p': (c5553b9)-[:UnderProgram]->(b38f5aa)},\n",
       " {'p': (c56650a)-[:UnderProgram]->(b38f5aa)},\n",
       " {'p': (c81a144)-[:UnderProgram]->(b38f5aa)},\n",
       " {'p': (a074004)-[:UnderProgram]->(b38f5aa)},\n",
       " {'p': (f8627b0)-[:UnderProgram]->(b38f5aa)},\n",
       " {'p': (db3059d)-[:UnderProgram]->(b38f5aa)},\n",
       " {'p': (b5b6547)-[:UnderProgram]->(b38f5aa)},\n",
       " {'p': (cca212b)-[:UnderProgram]->(b38f5aa)},\n",
       " {'p': (abb10d0)-[:UnderProgram]->(b38f5aa)},\n",
       " {'p': (e50f859)-[:UnderProgram]->(b38f5aa)},\n",
       " {'p': (f78f00b)-[:UnderProgram]->(b38f5aa)},\n",
       " {'p': (bff043d)-[:UnderProgram]->(b38f5aa)},\n",
       " {'p': (e5904c8)-[:UnderProgram]->(b38f5aa)},\n",
       " {'p': (dc51ade)-[:UnderProgram]->(b38f5aa)},\n",
       " {'p': (ac60dc4)-[:UnderProgram]->(b38f5aa)},\n",
       " {'p': (c75d80a)-[:UnderProgram]->(b38f5aa)},\n",
       " {'p': (f08f63f)-[:UnderProgram]->(b38f5aa)},\n",
       " {'p': (efbca44)-[:UnderProgram]->(b38f5aa)},\n",
       " {'p': (b8306bf)-[:UnderProgram]->(b38f5aa)},\n",
       " {'p': (ed4c58a)-[:UnderProgram]->(b38f5aa)},\n",
       " {'p': (a9cdb9f)-[:UnderProgram]->(b38f5aa)},\n",
       " {'p': (c19353e)-[:UnderProgram]->(b38f5aa)},\n",
       " {'p': (d52cef4)-[:UnderProgram]->(b38f5aa)},\n",
       " {'p': (c39873c)-[:UnderProgram]->(b38f5aa)},\n",
       " {'p': (cf0307d)-[:UnderProgram]->(b38f5aa)},\n",
       " {'p': (bc0530f)-[:UnderProgram]->(b38f5aa)},\n",
       " {'p': (ede071c)-[:UnderProgram]->(b38f5aa)}]"
      ]
     },
     "execution_count": 8,
     "metadata": {},
     "output_type": "execute_result"
    }
   ],
   "source": [
    " graph_3.data(\"MATCH p = ()-[r:UnderProgram]->(n {name: 'Accounting (BS)'}) RETURN p\")"
   ]
  },
  {
   "cell_type": "code",
   "execution_count": 10,
   "metadata": {},
   "outputs": [
    {
     "data": {
      "text/plain": [
       "[{'m': (e660105:Course {description:\"The role of leadership in business organizations ; concepts and skills for managing oneself and others .\",id:\"BUAD 304\",name:\"BUAD 304 Organizational Behavior and Leadership\"})},\n",
       " {'m': (cc1aee9:Course {description:\"Theory , practices , and techniques essential to communication in accounting . Interpersonal and group communication ; oral presentations ; writing ; use of communication technologies ; communication strategies for varied audiences .\",id:\"BUAD 302\",name:\"BUAD 302T Communication Strategy in Accounting\"})},\n",
       " {'m': (c11871c:Course {description:\"An emphasis on how accounting information , combined with a variety of techniques and best practices , supports enhanced management decision making . \",id:\"BUAD 281\",name:\"BUAD 281 Introduction to Managerial Accounting\"})},\n",
       " {'m': (ebccd04:Course {description:\"Emphasis on understanding financial statements and the impact of business transactions on information presented to management and interested stakeholders .\",id:\"BUAD 280\",name:\"BUAD 280 Introduction to Financial Accounting\"})},\n",
       " {'m': (a20ef3b:Course {description:\"Issues related to the design , control , and implementation of accounting information systems . \",id:\"ACCT 471\",name:\"ACCT 471 Accounting Information Systems\"})},\n",
       " {'m': (f04b199:Course {description:\"Understanding of systems providing cost information useful in management decision-making and problem solving . \",id:\"ACCT 472\",name:\"ACCT 472 Managerial Accounting\"})},\n",
       " {'m': (fee484c:Course {description:\"Understanding/identifying methods of fraudulent financial reporting , and signals that financial statements were fictitiously prepared ; major frameworks for analyzing ethical dilemmas ; reforms in corporate reporting environment . \",id:\"ACCT 462\",name:\"ACCT 462 Detecting Fraudulent Financial Reporting\"})},\n",
       " {'m': (c5553b9:Course {description:\"Examination of internal audit/auditors and their relationship to management , the investors , the regulators , and the external auditors . \",id:\"ACCT 463\",name:\"ACCT 463 Internal Audit\"})},\n",
       " {'m': (c56650a:Course {description:\"Capabilities to identify and articulate tax issues related to a business entity’s life : formation , investing , financing and operations , and change of form . \",id:\"ACCT 474\",name:\"ACCT 474 Tax Issues for Business\"})},\n",
       " {'m': (c81a144:Course {description:\"Examination of the role of financial statement analysis in the prediction of a firm’s future financial performance . \",id:\"ACCT 416\",name:\"ACCT 416 Financial Reporting and Analysis\"})},\n",
       " {'m': (a074004:Course {description:\"Develop capabilities to identify and resolve advanced external financial reporting challenges , focusing primarily on operating , financing , and investing activities of business enterprises . \",id:\"ACCT 470\",name:\"ACCT 470 Advanced External Financial Reporting Issues\"})},\n",
       " {'m': (f8627b0:Course {description:\"Course builds on the background developed in ACCT 373  , specifically the process used by external auditors to conduct financial statement audits . \",id:\"ACCT 473\",name:\"ACCT 473 Financial Statement Auditing\"})},\n",
       " {'m': (db3059d:Course {description:\"Examines the fundamentals of accounting systems development . Introduction to the concepts of implementation and support , with emphasis on system quality assurance , evaluation and attestation . \",id:\"ACCT 479\",name:\"ACCT 479 Accounting Systems Development\"})},\n",
       " {'m': (b5b6547:Course {description:\"Provides the methodological tools to identify research problems , develop researchable hypotheses , apply appropriate methodologies , conduct research , derive meaningful conclusions from data , write a research proposal .\",id:\"ACCT 493\",name:\"ACCT 493 Leventhal Honors Research Seminar\"})},\n",
       " {'m': (cca212b:Course {description:\"Develops the ability to identify and understand new areas of emerging guidance involving fair value issues and to recognize and demonstrate appropriate application of methodologies . \",id:\"ACCT 477\",name:\"ACCT 477 Intermediate Fair Value Issues in Accounting\"})},\n",
       " {'m': (abb10d0:Course {description:\"Explores the design of accounting systems . Introduction to tools and techniques for analyzing and designing accounting systems with an emphasis on system controls and reporting . \",id:\"ACCT 478\",name:\"ACCT 478 Accounting Systems Design\"})},\n",
       " {'m': (e50f859:Course {description:\"Issues related to the security , control , and auditing of accounting information systems . \",id:\"ACCT 475\",name:\"ACCT 475 Systems Security and Audit\"})},\n",
       " {'m': (f78f00b:Course {description:\"Introduction to understanding how management control systems can enhance achievement of the organization’s objectives and strategies . \",id:\"ACCT 476\",name:\"ACCT 476 Performance Measurement Issues\"})},\n",
       " {'m': (bff043d:Course {description:\"Derivatives ; extrema . Definite integral ; fundamental theorem of calculus . Extrema and definite integrals for functions of several variables . \",id:\"MATH 118\",name:\"MATH 118gx Fundamental Principles of Calculus\"})},\n",
       " {'m': (e5904c8:Course {description:\"Theoretical development and significance to business and markets of economic growth ; inflation ; unemployment ; monetary and fiscal policy ; business cycles ; savings and investment ; exchange rates .\",id:\"ECON 352\",name:\"ECON 352x Macroeconomics for Business\"})},\n",
       " {'m': (dc51ade:Course {description:\"Development and business applications of : theory of the firm ; theory of the consumer ; intertemporal decisions ; decisions under risk ; market failures ; industrial and enterprise structure . Not for major credit for : economics , economics/mathematics , social sciences (economics) majors . \",id:\"ECON 351\",name:\"ECON 351x Microeconomics for Business\"})},\n",
       " {'m': (ac60dc4:Course {description:\"Examination of managerial decision-making , planning , and policy under changing environments ; readings , cases , exercises , simulations . \",id:\"BUAD 497\",name:\"BUAD 497 Strategic Management\"})},\n",
       " {'m': (c75d80a:Course {description:\"Learn the fundamentals of operations management and acquire skills to analyze , measure , control and improve production processes .\",id:\"BUAD 311\",name:\"BUAD 311T Operations Management for Accounting Majors\"})},\n",
       " {'m': (f08f63f:Course {description:\"Statistical methods for business analysis ; data exploration and description ; sampling distributions ; estimation ; hypothesis testing , simple and multiple regression ; model building . Extensive computer applications .\",id:\"BUAD 310\",name:\"BUAD 310g Applied Business Statistics\"})},\n",
       " {'m': (efbca44:Course {description:\"Develops a managerial viewpoint in planning and evaluating marketing decisions of the firm : products , pricing , channels , promotion , information processing , legal implications , and marketing in contemporary society .\",id:\"BUAD 307\",name:\"BUAD 307 Marketing Fundamentals\"})},\n",
       " {'m': (b8306bf:Course {description:\"Financial problems of business enterprise ; function of financial manager ; sources of funds ; instruments , institutions , and practices of finance ; problems of financial management using case studies . \",id:\"BUAD 306\",name:\"BUAD 306 Business Finance\"})},\n",
       " {'m': (ed4c58a:Course {description:\"Theoretical knowledge and practical application accountants need to identify ethical issues and reconcile conflicts among competing stakeholders’ interests in all major areas of accounting practice . \",id:\"ACCT 430\",name:\"ACCT 430 Accounting Ethics\"})},\n",
       " {'m': (a9cdb9f:Course {description:\"Explores Accounting Standards Codification (ASC) 820 “Fair Value Measurements and Disclosures” and reviews the historical background of US GAAP fair value guidance . \",id:\"ACCT 377\",name:\"ACCT 377 Valuation for Financial Statement Purposes\"})},\n",
       " {'m': (c19353e:Course {description:\"Basic tax principles , introduction to U .S . federal , state and local tax systems , income and expense definitions , property transactions , and fundamentals of individual taxation . \",id:\"ACCT 374\",name:\"ACCT 374 Introduction to Tax Issues\"})},\n",
       " {'m': (d52cef4:Course {description:\"Exploration of the requisite skills and knowledge needed to offer services in assurance , attestation or auditing engagements . \",id:\"ACCT 373\",name:\"ACCT 373 Introduction to Auditing and Assurance Services\"})},\n",
       " {'m': (c39873c:Course {description:\"Understanding of decision-making , problem solving , and research skills as a supplement to managerial accounting knowledge for accounting professionals . \",id:\"ACCT 372\",name:\"ACCT 372 Internal Reporting Issues\"})},\n",
       " {'m': (cf0307d:Course {description:\"Understanding of technology and controls needed to capture data used by professionals in financial and managerial accounting , auditing and taxation . \",id:\"ACCT 371\",name:\"ACCT 371 Introduction to Accounting Systems\"})},\n",
       " {'m': (bc0530f:Course {description:\"Understanding of decision-making , problem solving , and research skills as a supplement to financial accounting knowledge for accounting professionals . \",id:\"ACCT 370\",name:\"ACCT 370 External Financial Reporting Issues\"})},\n",
       " {'m': (ede071c:Course {description:\"Limits ; continuity , derivatives and applications ; antiderivatives ; the fundamental theorem of calculus ; exponential and logarithmic functions . \",id:\"MATH 125\",name:\"MATH 125g Calculus I\"})}]"
      ]
     },
     "execution_count": 10,
     "metadata": {},
     "output_type": "execute_result"
    }
   ],
   "source": [
    "graph_3.data(\"MATCH (m)-[r:UnderProgram]->(n {name: 'Accounting (BS)'})\\\n",
    "where not (m)-[r:HasPreparation]->() and not (m)-[r:HasPrerequisite]->()\\\n",
    "return m\")"
   ]
  },
  {
   "cell_type": "code",
   "execution_count": 11,
   "metadata": {},
   "outputs": [
    {
     "ename": "CypherSyntaxError",
     "evalue": "Variable `p` not defined (line 1, column 64 (offset: 63))\n\"MATCH (m)-[r:UnderProgram]->(n {name: 'Accounting (BS)'})where p = (m)-[r:HasPreparation]->() or (m)-[r:HasPrerequisite]->()return p\"\n                                                                ^",
     "output_type": "error",
     "traceback": [
      "\u001b[0;31m---------------------------------------------------------------------------\u001b[0m",
      "\u001b[0;31mCypherSyntaxError\u001b[0m                         Traceback (most recent call last)",
      "\u001b[0;32m<ipython-input-11-7630c75c49e0>\u001b[0m in \u001b[0;36m<module>\u001b[0;34m()\u001b[0m\n\u001b[0;32m----> 1\u001b[0;31m \u001b[0mgraph_3\u001b[0m\u001b[0;34m.\u001b[0m\u001b[0mdata\u001b[0m\u001b[0;34m(\u001b[0m\u001b[0;34m\"MATCH (m)-[r:UnderProgram]->(n {name: 'Accounting (BS)'})where p = (m)-[r:HasPreparation]->() or (m)-[r:HasPrerequisite]->()return p\"\u001b[0m\u001b[0;34m)\u001b[0m\u001b[0;34m\u001b[0m\u001b[0m\n\u001b[0m",
      "\u001b[0;32m/usr/local/lib/python3.6/site-packages/py2neo/database/__init__.py\u001b[0m in \u001b[0;36mdata\u001b[0;34m(self, statement, parameters, **kwparameters)\u001b[0m\n\u001b[1;32m    414\u001b[0m         \u001b[0;34m:\u001b[0m\u001b[0mrtype\u001b[0m\u001b[0;34m:\u001b[0m\u001b[0;31m \u001b[0m\u001b[0;31m`\u001b[0m\u001b[0mlist\u001b[0m\u001b[0;31m`\u001b[0m \u001b[0mof\u001b[0m\u001b[0;31m \u001b[0m\u001b[0;31m`\u001b[0m\u001b[0mdict\u001b[0m\u001b[0;31m`\u001b[0m\u001b[0;34m\u001b[0m\u001b[0m\n\u001b[1;32m    415\u001b[0m         \"\"\"\n\u001b[0;32m--> 416\u001b[0;31m         \u001b[0;32mreturn\u001b[0m \u001b[0mself\u001b[0m\u001b[0;34m.\u001b[0m\u001b[0mbegin\u001b[0m\u001b[0;34m(\u001b[0m\u001b[0mautocommit\u001b[0m\u001b[0;34m=\u001b[0m\u001b[0;32mTrue\u001b[0m\u001b[0;34m)\u001b[0m\u001b[0;34m.\u001b[0m\u001b[0mrun\u001b[0m\u001b[0;34m(\u001b[0m\u001b[0mstatement\u001b[0m\u001b[0;34m,\u001b[0m \u001b[0mparameters\u001b[0m\u001b[0;34m,\u001b[0m \u001b[0;34m**\u001b[0m\u001b[0mkwparameters\u001b[0m\u001b[0;34m)\u001b[0m\u001b[0;34m.\u001b[0m\u001b[0mdata\u001b[0m\u001b[0;34m(\u001b[0m\u001b[0;34m)\u001b[0m\u001b[0;34m\u001b[0m\u001b[0m\n\u001b[0m\u001b[1;32m    417\u001b[0m \u001b[0;34m\u001b[0m\u001b[0m\n\u001b[1;32m    418\u001b[0m     \u001b[0;34m@\u001b[0m\u001b[0mproperty\u001b[0m\u001b[0;34m\u001b[0m\u001b[0m\n",
      "\u001b[0;32m/usr/local/lib/python3.6/site-packages/py2neo/database/__init__.py\u001b[0m in \u001b[0;36mrun\u001b[0;34m(self, statement, parameters, **kwparameters)\u001b[0m\n\u001b[1;32m   1275\u001b[0m         \u001b[0mself\u001b[0m\u001b[0;34m.\u001b[0m\u001b[0msources\u001b[0m\u001b[0;34m.\u001b[0m\u001b[0mappend\u001b[0m\u001b[0;34m(\u001b[0m\u001b[0msource\u001b[0m\u001b[0;34m)\u001b[0m\u001b[0;34m\u001b[0m\u001b[0m\n\u001b[1;32m   1276\u001b[0m         \u001b[0;32mif\u001b[0m \u001b[0mself\u001b[0m\u001b[0;34m.\u001b[0m\u001b[0mautocommit\u001b[0m\u001b[0;34m:\u001b[0m\u001b[0;34m\u001b[0m\u001b[0m\n\u001b[0;32m-> 1277\u001b[0;31m             \u001b[0mself\u001b[0m\u001b[0;34m.\u001b[0m\u001b[0mfinish\u001b[0m\u001b[0;34m(\u001b[0m\u001b[0;34m)\u001b[0m\u001b[0;34m\u001b[0m\u001b[0m\n\u001b[0m\u001b[1;32m   1278\u001b[0m         \u001b[0;32mreturn\u001b[0m \u001b[0mCursor\u001b[0m\u001b[0;34m(\u001b[0m\u001b[0msource\u001b[0m\u001b[0;34m)\u001b[0m\u001b[0;34m\u001b[0m\u001b[0m\n\u001b[1;32m   1279\u001b[0m \u001b[0;34m\u001b[0m\u001b[0m\n",
      "\u001b[0;32m/usr/local/lib/python3.6/site-packages/py2neo/database/__init__.py\u001b[0m in \u001b[0;36mfinish\u001b[0;34m(self)\u001b[0m\n\u001b[1;32m   1294\u001b[0m \u001b[0;34m\u001b[0m\u001b[0m\n\u001b[1;32m   1295\u001b[0m     \u001b[0;32mdef\u001b[0m \u001b[0mfinish\u001b[0m\u001b[0;34m(\u001b[0m\u001b[0mself\u001b[0m\u001b[0;34m)\u001b[0m\u001b[0;34m:\u001b[0m\u001b[0;34m\u001b[0m\u001b[0m\n\u001b[0;32m-> 1296\u001b[0;31m         \u001b[0mself\u001b[0m\u001b[0;34m.\u001b[0m\u001b[0m_sync\u001b[0m\u001b[0;34m(\u001b[0m\u001b[0;34m)\u001b[0m\u001b[0;34m\u001b[0m\u001b[0m\n\u001b[0m\u001b[1;32m   1297\u001b[0m         \u001b[0mTransaction\u001b[0m\u001b[0;34m.\u001b[0m\u001b[0mfinish\u001b[0m\u001b[0;34m(\u001b[0m\u001b[0mself\u001b[0m\u001b[0;34m)\u001b[0m\u001b[0;34m\u001b[0m\u001b[0m\n\u001b[1;32m   1298\u001b[0m         \u001b[0mself\u001b[0m\u001b[0;34m.\u001b[0m\u001b[0msession\u001b[0m\u001b[0;34m.\u001b[0m\u001b[0mclose\u001b[0m\u001b[0;34m(\u001b[0m\u001b[0;34m)\u001b[0m\u001b[0;34m\u001b[0m\u001b[0m\n",
      "\u001b[0;32m/usr/local/lib/python3.6/site-packages/py2neo/database/__init__.py\u001b[0m in \u001b[0;36m_sync\u001b[0;34m(self)\u001b[0m\n\u001b[1;32m   1284\u001b[0m             \u001b[0msource\u001b[0m \u001b[0;34m=\u001b[0m \u001b[0mself\u001b[0m\u001b[0;34m.\u001b[0m\u001b[0msources\u001b[0m\u001b[0;34m.\u001b[0m\u001b[0mpop\u001b[0m\u001b[0;34m(\u001b[0m\u001b[0;36m0\u001b[0m\u001b[0;34m)\u001b[0m\u001b[0;34m\u001b[0m\u001b[0m\n\u001b[1;32m   1285\u001b[0m             \u001b[0;32mwhile\u001b[0m \u001b[0;32mnot\u001b[0m \u001b[0msource\u001b[0m\u001b[0;34m.\u001b[0m\u001b[0mloaded\u001b[0m\u001b[0;34m:\u001b[0m\u001b[0;34m\u001b[0m\u001b[0m\n\u001b[0;32m-> 1286\u001b[0;31m                 \u001b[0mconnection\u001b[0m\u001b[0;34m.\u001b[0m\u001b[0mfetch\u001b[0m\u001b[0;34m(\u001b[0m\u001b[0;34m)\u001b[0m\u001b[0;34m\u001b[0m\u001b[0m\n\u001b[0m\u001b[1;32m   1287\u001b[0m \u001b[0;34m\u001b[0m\u001b[0m\n\u001b[1;32m   1288\u001b[0m     \u001b[0;32mdef\u001b[0m \u001b[0m_post\u001b[0m\u001b[0;34m(\u001b[0m\u001b[0mself\u001b[0m\u001b[0;34m,\u001b[0m \u001b[0mcommit\u001b[0m\u001b[0;34m=\u001b[0m\u001b[0;32mFalse\u001b[0m\u001b[0;34m)\u001b[0m\u001b[0;34m:\u001b[0m\u001b[0;34m\u001b[0m\u001b[0m\n",
      "\u001b[0;32m/usr/local/lib/python3.6/site-packages/py2neo/packages/neo4j/v1/bolt.py\u001b[0m in \u001b[0;36mfetch\u001b[0;34m(self)\u001b[0m\n\u001b[1;32m    342\u001b[0m                 \u001b[0;32mpass\u001b[0m\u001b[0;34m\u001b[0m\u001b[0m\n\u001b[1;32m    343\u001b[0m             \u001b[0;32melse\u001b[0m\u001b[0;34m:\u001b[0m\u001b[0;34m\u001b[0m\u001b[0m\n\u001b[0;32m--> 344\u001b[0;31m                 \u001b[0mhandler\u001b[0m\u001b[0;34m(\u001b[0m\u001b[0;34m*\u001b[0m\u001b[0mfields\u001b[0m\u001b[0;34m)\u001b[0m\u001b[0;34m\u001b[0m\u001b[0m\n\u001b[0m\u001b[1;32m    345\u001b[0m         \u001b[0mraw\u001b[0m\u001b[0;34m.\u001b[0m\u001b[0mclose\u001b[0m\u001b[0;34m(\u001b[0m\u001b[0;34m)\u001b[0m\u001b[0;34m\u001b[0m\u001b[0m\n\u001b[1;32m    346\u001b[0m \u001b[0;34m\u001b[0m\u001b[0m\n",
      "\u001b[0;32m/usr/local/lib/python3.6/site-packages/py2neo/database/__init__.py\u001b[0m in \u001b[0;36mon_failure\u001b[0;34m(self, metadata)\u001b[0m\n\u001b[1;32m    959\u001b[0m         \u001b[0;34m:\u001b[0m\u001b[0mparam\u001b[0m \u001b[0mmetadata\u001b[0m\u001b[0;34m:\u001b[0m\u001b[0;34m\u001b[0m\u001b[0m\n\u001b[1;32m    960\u001b[0m         \"\"\"\n\u001b[0;32m--> 961\u001b[0;31m         \u001b[0;32mraise\u001b[0m \u001b[0mGraphError\u001b[0m\u001b[0;34m.\u001b[0m\u001b[0mhydrate\u001b[0m\u001b[0;34m(\u001b[0m\u001b[0mmetadata\u001b[0m\u001b[0;34m)\u001b[0m\u001b[0;34m\u001b[0m\u001b[0m\n\u001b[0m\u001b[1;32m    962\u001b[0m \u001b[0;34m\u001b[0m\u001b[0m\n\u001b[1;32m    963\u001b[0m     \u001b[0;32mdef\u001b[0m \u001b[0mrehydrate\u001b[0m\u001b[0;34m(\u001b[0m\u001b[0mself\u001b[0m\u001b[0;34m,\u001b[0m \u001b[0mobj\u001b[0m\u001b[0;34m,\u001b[0m \u001b[0minst\u001b[0m\u001b[0;34m=\u001b[0m\u001b[0;32mNone\u001b[0m\u001b[0;34m)\u001b[0m\u001b[0;34m:\u001b[0m\u001b[0;34m\u001b[0m\u001b[0m\n",
      "\u001b[0;31mCypherSyntaxError\u001b[0m: Variable `p` not defined (line 1, column 64 (offset: 63))\n\"MATCH (m)-[r:UnderProgram]->(n {name: 'Accounting (BS)'})where p = (m)-[r:HasPreparation]->() or (m)-[r:HasPrerequisite]->()return p\"\n                                                                ^"
     ]
    }
   ],
   "source": [
    "graph_3.data(\"MATCH (m)-[r:UnderProgram]->(n {name: 'Accounting (BS)'})\\\n",
    "where p = (m)-[r:HasPreparation]->() or (m)-[r:HasPrerequisite]->()\\\n",
    "return p\")"
   ]
  },
  {
   "cell_type": "code",
   "execution_count": 12,
   "metadata": {},
   "outputs": [],
   "source": [
    "courselist = graph_3.data(\"MATCH (m)-[r:UnderProgram]->(n {name: 'Accounting (BS)'}) return m.name\")"
   ]
  },
  {
   "cell_type": "code",
   "execution_count": 13,
   "metadata": {},
   "outputs": [
    {
     "data": {
      "text/plain": [
       "[{'m.name': 'BUAD 304 Organizational Behavior and Leadership'},\n",
       " {'m.name': 'BUAD 302T Communication Strategy in Accounting'},\n",
       " {'m.name': 'BUAD 281 Introduction to Managerial Accounting'},\n",
       " {'m.name': 'BUAD 280 Introduction to Financial Accounting'},\n",
       " {'m.name': 'ACCT 471 Accounting Information Systems'},\n",
       " {'m.name': 'ACCT 472 Managerial Accounting'},\n",
       " {'m.name': 'ACCT 462 Detecting Fraudulent Financial Reporting'},\n",
       " {'m.name': 'ACCT 463 Internal Audit'},\n",
       " {'m.name': 'ACCT 474 Tax Issues for Business'},\n",
       " {'m.name': 'ACCT 416 Financial Reporting and Analysis'},\n",
       " {'m.name': 'ACCT 470 Advanced External Financial Reporting Issues'},\n",
       " {'m.name': 'ACCT 473 Financial Statement Auditing'},\n",
       " {'m.name': 'ACCT 479 Accounting Systems Development'},\n",
       " {'m.name': 'ACCT 493 Leventhal Honors Research Seminar'},\n",
       " {'m.name': 'ACCT 477 Intermediate Fair Value Issues in Accounting'},\n",
       " {'m.name': 'ACCT 478 Accounting Systems Design'},\n",
       " {'m.name': 'ACCT 475 Systems Security and Audit'},\n",
       " {'m.name': 'ACCT 476 Performance Measurement Issues'},\n",
       " {'m.name': 'MATH 118gx Fundamental Principles of Calculus'},\n",
       " {'m.name': 'ECON 352x Macroeconomics for Business'},\n",
       " {'m.name': 'ECON 351x Microeconomics for Business'},\n",
       " {'m.name': 'BUAD 497 Strategic Management'},\n",
       " {'m.name': 'BUAD 311T Operations Management for Accounting Majors'},\n",
       " {'m.name': 'BUAD 310g Applied Business Statistics'},\n",
       " {'m.name': 'BUAD 307 Marketing Fundamentals'},\n",
       " {'m.name': 'BUAD 306 Business Finance'},\n",
       " {'m.name': 'ACCT 430 Accounting Ethics'},\n",
       " {'m.name': 'ACCT 377 Valuation for Financial Statement Purposes'},\n",
       " {'m.name': 'ACCT 374 Introduction to Tax Issues'},\n",
       " {'m.name': 'ACCT 373 Introduction to Auditing and Assurance Services'},\n",
       " {'m.name': 'ACCT 372 Internal Reporting Issues'},\n",
       " {'m.name': 'ACCT 371 Introduction to Accounting Systems'},\n",
       " {'m.name': 'ACCT 370 External Financial Reporting Issues'},\n",
       " {'m.name': 'MATH 125g Calculus I'}]"
      ]
     },
     "execution_count": 13,
     "metadata": {},
     "output_type": "execute_result"
    }
   ],
   "source": [
    "courselist\n"
   ]
  },
  {
   "cell_type": "code",
   "execution_count": 14,
   "metadata": {},
   "outputs": [
    {
     "data": {
      "text/plain": [
       "[{'p': (b8306bf)-[:HasPrerequisite]->(ebccd04)},\n",
       " {'p': (c11871c)-[:HasPrerequisite]->(ebccd04)},\n",
       " {'p': (f78f00b)-[:HasPrerequisite]->(c11871c)},\n",
       " {'p': (c19353e)-[:HasPrerequisite]->(c11871c)},\n",
       " {'p': (c39873c)-[:HasPrerequisite]->(c11871c)},\n",
       " {'p': (cf0307d)-[:HasPrerequisite]->(c11871c)},\n",
       " {'p': (bc0530f)-[:HasPrerequisite]->(c11871c)},\n",
       " {'p': (ac60dc4)-[:HasPrerequisite]->(c11871c)},\n",
       " {'p': (ac60dc4)-[:HasPrerequisite]->(cc1aee9)},\n",
       " {'p': (ac60dc4)-[:HasPrerequisite]->(e660105)},\n",
       " {'p': (c81a144)-[:HasPrerequisite]->(b8306bf)},\n",
       " {'p': (ac60dc4)-[:HasPrerequisite]->(b8306bf)},\n",
       " {'p': (ac60dc4)-[:HasPrerequisite]->(efbca44)},\n",
       " {'p': (b8306bf)-[:HasPrerequisite]->(dc51ade)},\n",
       " {'p': (dc51ade)-[:HasPrerequisite]->(bff043d)},\n",
       " {'p': (dc51ade)-[:HasPrerequisite]->(ede071c)},\n",
       " {'p': (fee484c)-[:HasPrerequisite]->(bc0530f)},\n",
       " {'p': (c5553b9)-[:HasPrerequisite]->(bc0530f)},\n",
       " {'p': (c81a144)-[:HasPrerequisite]->(bc0530f)},\n",
       " {'p': (a074004)-[:HasPrerequisite]->(bc0530f)},\n",
       " {'p': (a9cdb9f)-[:HasPrerequisite]->(bc0530f)},\n",
       " {'p': (d52cef4)-[:HasPrerequisite]->(bc0530f)},\n",
       " {'p': (abb10d0)-[:HasPrerequisite]->(cf0307d)},\n",
       " {'p': (e50f859)-[:HasPrerequisite]->(cf0307d)},\n",
       " {'p': (a20ef3b)-[:HasPrerequisite]->(cf0307d)},\n",
       " {'p': (d52cef4)-[:HasPrerequisite]->(cf0307d)},\n",
       " {'p': (f04b199)-[:HasPrerequisite]->(c39873c)},\n",
       " {'p': (ed4c58a)-[:HasPrerequisite]->(c39873c)},\n",
       " {'p': (c5553b9)-[:HasPrerequisite]->(d52cef4)},\n",
       " {'p': (f8627b0)-[:HasPrerequisite]->(d52cef4)},\n",
       " {'p': (ed4c58a)-[:HasPrerequisite]->(d52cef4)},\n",
       " {'p': (c56650a)-[:HasPrerequisite]->(c19353e)},\n",
       " {'p': (ed4c58a)-[:HasPrerequisite]->(c19353e)},\n",
       " {'p': (cca212b)-[:HasPrerequisite]->(a9cdb9f)},\n",
       " {'p': (ed4c58a)-[:HasPrerequisite]->(a9cdb9f)},\n",
       " {'p': (db3059d)-[:HasPrerequisite]->(abb10d0)},\n",
       " {'p': (dc51ade)-[:HasPrerequisite]->(d1d2071)},\n",
       " {'p': (dc51ade)-[:HasPrerequisite]->(ebddd32)},\n",
       " {'p': (ede071c)-[:HasPrerequisite]->(fdf65ed)},\n",
       " {'p': (bff043d)-[:HasPrerequisite]->(fdf65ed)},\n",
       " {'p': (f78f00b)-[:HasPrerequisite]->(f0cb995)},\n",
       " {'p': (ac60dc4)-[:HasPrerequisite]->(f0cb995)},\n",
       " {'p': (b8306bf)-[:HasPrerequisite]->(f0cb995)},\n",
       " {'p': (c81a144)-[:HasPrerequisite]->(c94e11a)},\n",
       " {'p': (ac60dc4)-[:HasPrerequisite]->(c94e11a)},\n",
       " {'p': (bff043d)-[:HasPrerequisite]->(f604501)},\n",
       " {'p': (f78f00b)-[:HasPrerequisite]->(c656317)},\n",
       " {'p': (c19353e)-[:HasPrerequisite]->(c656317)},\n",
       " {'p': (c39873c)-[:HasPrerequisite]->(c656317)},\n",
       " {'p': (cf0307d)-[:HasPrerequisite]->(c656317)},\n",
       " {'p': (bc0530f)-[:HasPrerequisite]->(c656317)},\n",
       " {'p': (ac60dc4)-[:HasPrerequisite]->(c656317)},\n",
       " {'p': (b8306bf)-[:HasPrerequisite]->(c656317)},\n",
       " {'p': (c81a144)-[:HasPrerequisite]->(c2baf2e)},\n",
       " {'p': (fee484c)-[:HasPrerequisite]->(c2baf2e)},\n",
       " {'p': (ebccd04)-[:HasPrerequisite]->(f29932c)},\n",
       " {'p': (cc1aee9)-[:HasPrerequisite]->(f29932c)},\n",
       " {'p': (e660105)-[:HasPrerequisite]->(f29932c)},\n",
       " {'p': (efbca44)-[:HasPrerequisite]->(f29932c)},\n",
       " {'p': (f08f63f)-[:HasPrerequisite]->(f29932c)},\n",
       " {'p': (c75d80a)-[:HasPrerequisite]->(f29932c)},\n",
       " {'p': (e5904c8)-[:HasPrerequisite]->(f29932c)},\n",
       " {'p': (b5b6547)-[:HasPrerequisite]->(f29932c)},\n",
       " {'p': (f78f00b)-[:HasPrerequisite]->(cae7cef)},\n",
       " {'p': (c19353e)-[:HasPrerequisite]->(cae7cef)},\n",
       " {'p': (c39873c)-[:HasPrerequisite]->(cae7cef)},\n",
       " {'p': (cf0307d)-[:HasPrerequisite]->(cae7cef)},\n",
       " {'p': (bc0530f)-[:HasPrerequisite]->(cae7cef)},\n",
       " {'p': (ac60dc4)-[:HasPrerequisite]->(cae7cef)},\n",
       " {'p': (b8306bf)-[:HasPrerequisite]->(cae7cef)},\n",
       " {'p': (f78f00b)-[:HasPrerequisite]->(d6d73b4)},\n",
       " {'p': (c19353e)-[:HasPrerequisite]->(d6d73b4)},\n",
       " {'p': (c39873c)-[:HasPrerequisite]->(d6d73b4)},\n",
       " {'p': (cf0307d)-[:HasPrerequisite]->(d6d73b4)},\n",
       " {'p': (bc0530f)-[:HasPrerequisite]->(d6d73b4)},\n",
       " {'p': (ac60dc4)-[:HasPrerequisite]->(d6d73b4)},\n",
       " {'p': (b8306bf)-[:HasPrerequisite]->(d6d73b4)}]"
      ]
     },
     "execution_count": 14,
     "metadata": {},
     "output_type": "execute_result"
    }
   ],
   "source": [
    "graph_3.data(\"MATCH p=(m)-[:HasPrerequisite]->() where (m)-[:UnderProgram]->({name: 'Accounting (BS)'}) return p\")"
   ]
  },
  {
   "cell_type": "code",
   "execution_count": 15,
   "metadata": {},
   "outputs": [
    {
     "data": {
      "text/plain": [
       "[{'m': (b8306bf:Course {description:\"Financial problems of business enterprise ; function of financial manager ; sources of funds ; instruments , institutions , and practices of finance ; problems of financial management using case studies . \",id:\"BUAD 306\",name:\"BUAD 306 Business Finance\"}),\n",
       "  'p': (b8306bf)-[:HasPrerequisite]->(ebccd04)},\n",
       " {'m': (c11871c:Course {description:\"An emphasis on how accounting information , combined with a variety of techniques and best practices , supports enhanced management decision making . \",id:\"BUAD 281\",name:\"BUAD 281 Introduction to Managerial Accounting\"}),\n",
       "  'p': (c11871c)-[:HasPrerequisite]->(ebccd04)},\n",
       " {'m': (f78f00b:Course {description:\"Introduction to understanding how management control systems can enhance achievement of the organization’s objectives and strategies . \",id:\"ACCT 476\",name:\"ACCT 476 Performance Measurement Issues\"}),\n",
       "  'p': (f78f00b)-[:HasPrerequisite]->(c11871c)},\n",
       " {'m': (c19353e:Course {description:\"Basic tax principles , introduction to U .S . federal , state and local tax systems , income and expense definitions , property transactions , and fundamentals of individual taxation . \",id:\"ACCT 374\",name:\"ACCT 374 Introduction to Tax Issues\"}),\n",
       "  'p': (c19353e)-[:HasPrerequisite]->(c11871c)},\n",
       " {'m': (c39873c:Course {description:\"Understanding of decision-making , problem solving , and research skills as a supplement to managerial accounting knowledge for accounting professionals . \",id:\"ACCT 372\",name:\"ACCT 372 Internal Reporting Issues\"}),\n",
       "  'p': (c39873c)-[:HasPrerequisite]->(c11871c)},\n",
       " {'m': (cf0307d:Course {description:\"Understanding of technology and controls needed to capture data used by professionals in financial and managerial accounting , auditing and taxation . \",id:\"ACCT 371\",name:\"ACCT 371 Introduction to Accounting Systems\"}),\n",
       "  'p': (cf0307d)-[:HasPrerequisite]->(c11871c)},\n",
       " {'m': (bc0530f:Course {description:\"Understanding of decision-making , problem solving , and research skills as a supplement to financial accounting knowledge for accounting professionals . \",id:\"ACCT 370\",name:\"ACCT 370 External Financial Reporting Issues\"}),\n",
       "  'p': (bc0530f)-[:HasPrerequisite]->(c11871c)},\n",
       " {'m': (ac60dc4:Course {description:\"Examination of managerial decision-making , planning , and policy under changing environments ; readings , cases , exercises , simulations . \",id:\"BUAD 497\",name:\"BUAD 497 Strategic Management\"}),\n",
       "  'p': (ac60dc4)-[:HasPrerequisite]->(c11871c)},\n",
       " {'m': (ac60dc4:Course {description:\"Examination of managerial decision-making , planning , and policy under changing environments ; readings , cases , exercises , simulations . \",id:\"BUAD 497\",name:\"BUAD 497 Strategic Management\"}),\n",
       "  'p': (ac60dc4)-[:HasPrerequisite]->(cc1aee9)},\n",
       " {'m': (ac60dc4:Course {description:\"Examination of managerial decision-making , planning , and policy under changing environments ; readings , cases , exercises , simulations . \",id:\"BUAD 497\",name:\"BUAD 497 Strategic Management\"}),\n",
       "  'p': (ac60dc4)-[:HasPrerequisite]->(e660105)},\n",
       " {'m': (c81a144:Course {description:\"Examination of the role of financial statement analysis in the prediction of a firm’s future financial performance . \",id:\"ACCT 416\",name:\"ACCT 416 Financial Reporting and Analysis\"}),\n",
       "  'p': (c81a144)-[:HasPrerequisite]->(b8306bf)},\n",
       " {'m': (ac60dc4:Course {description:\"Examination of managerial decision-making , planning , and policy under changing environments ; readings , cases , exercises , simulations . \",id:\"BUAD 497\",name:\"BUAD 497 Strategic Management\"}),\n",
       "  'p': (ac60dc4)-[:HasPrerequisite]->(b8306bf)},\n",
       " {'m': (ac60dc4:Course {description:\"Examination of managerial decision-making , planning , and policy under changing environments ; readings , cases , exercises , simulations . \",id:\"BUAD 497\",name:\"BUAD 497 Strategic Management\"}),\n",
       "  'p': (ac60dc4)-[:HasPrerequisite]->(efbca44)},\n",
       " {'m': (b8306bf:Course {description:\"Financial problems of business enterprise ; function of financial manager ; sources of funds ; instruments , institutions , and practices of finance ; problems of financial management using case studies . \",id:\"BUAD 306\",name:\"BUAD 306 Business Finance\"}),\n",
       "  'p': (b8306bf)-[:HasPrerequisite]->(dc51ade)},\n",
       " {'m': (dc51ade:Course {description:\"Development and business applications of : theory of the firm ; theory of the consumer ; intertemporal decisions ; decisions under risk ; market failures ; industrial and enterprise structure . Not for major credit for : economics , economics/mathematics , social sciences (economics) majors . \",id:\"ECON 351\",name:\"ECON 351x Microeconomics for Business\"}),\n",
       "  'p': (dc51ade)-[:HasPrerequisite]->(bff043d)},\n",
       " {'m': (dc51ade:Course {description:\"Development and business applications of : theory of the firm ; theory of the consumer ; intertemporal decisions ; decisions under risk ; market failures ; industrial and enterprise structure . Not for major credit for : economics , economics/mathematics , social sciences (economics) majors . \",id:\"ECON 351\",name:\"ECON 351x Microeconomics for Business\"}),\n",
       "  'p': (dc51ade)-[:HasPrerequisite]->(ede071c)},\n",
       " {'m': (fee484c:Course {description:\"Understanding/identifying methods of fraudulent financial reporting , and signals that financial statements were fictitiously prepared ; major frameworks for analyzing ethical dilemmas ; reforms in corporate reporting environment . \",id:\"ACCT 462\",name:\"ACCT 462 Detecting Fraudulent Financial Reporting\"}),\n",
       "  'p': (fee484c)-[:HasPrerequisite]->(bc0530f)},\n",
       " {'m': (c5553b9:Course {description:\"Examination of internal audit/auditors and their relationship to management , the investors , the regulators , and the external auditors . \",id:\"ACCT 463\",name:\"ACCT 463 Internal Audit\"}),\n",
       "  'p': (c5553b9)-[:HasPrerequisite]->(bc0530f)},\n",
       " {'m': (c81a144:Course {description:\"Examination of the role of financial statement analysis in the prediction of a firm’s future financial performance . \",id:\"ACCT 416\",name:\"ACCT 416 Financial Reporting and Analysis\"}),\n",
       "  'p': (c81a144)-[:HasPrerequisite]->(bc0530f)},\n",
       " {'m': (a074004:Course {description:\"Develop capabilities to identify and resolve advanced external financial reporting challenges , focusing primarily on operating , financing , and investing activities of business enterprises . \",id:\"ACCT 470\",name:\"ACCT 470 Advanced External Financial Reporting Issues\"}),\n",
       "  'p': (a074004)-[:HasPrerequisite]->(bc0530f)},\n",
       " {'m': (a9cdb9f:Course {description:\"Explores Accounting Standards Codification (ASC) 820 “Fair Value Measurements and Disclosures” and reviews the historical background of US GAAP fair value guidance . \",id:\"ACCT 377\",name:\"ACCT 377 Valuation for Financial Statement Purposes\"}),\n",
       "  'p': (a9cdb9f)-[:HasPrerequisite]->(bc0530f)},\n",
       " {'m': (d52cef4:Course {description:\"Exploration of the requisite skills and knowledge needed to offer services in assurance , attestation or auditing engagements . \",id:\"ACCT 373\",name:\"ACCT 373 Introduction to Auditing and Assurance Services\"}),\n",
       "  'p': (d52cef4)-[:HasPrerequisite]->(bc0530f)},\n",
       " {'m': (abb10d0:Course {description:\"Explores the design of accounting systems . Introduction to tools and techniques for analyzing and designing accounting systems with an emphasis on system controls and reporting . \",id:\"ACCT 478\",name:\"ACCT 478 Accounting Systems Design\"}),\n",
       "  'p': (abb10d0)-[:HasPrerequisite]->(cf0307d)},\n",
       " {'m': (e50f859:Course {description:\"Issues related to the security , control , and auditing of accounting information systems . \",id:\"ACCT 475\",name:\"ACCT 475 Systems Security and Audit\"}),\n",
       "  'p': (e50f859)-[:HasPrerequisite]->(cf0307d)},\n",
       " {'m': (a20ef3b:Course {description:\"Issues related to the design , control , and implementation of accounting information systems . \",id:\"ACCT 471\",name:\"ACCT 471 Accounting Information Systems\"}),\n",
       "  'p': (a20ef3b)-[:HasPrerequisite]->(cf0307d)},\n",
       " {'m': (d52cef4:Course {description:\"Exploration of the requisite skills and knowledge needed to offer services in assurance , attestation or auditing engagements . \",id:\"ACCT 373\",name:\"ACCT 373 Introduction to Auditing and Assurance Services\"}),\n",
       "  'p': (d52cef4)-[:HasPrerequisite]->(cf0307d)},\n",
       " {'m': (f04b199:Course {description:\"Understanding of systems providing cost information useful in management decision-making and problem solving . \",id:\"ACCT 472\",name:\"ACCT 472 Managerial Accounting\"}),\n",
       "  'p': (f04b199)-[:HasPrerequisite]->(c39873c)},\n",
       " {'m': (ed4c58a:Course {description:\"Theoretical knowledge and practical application accountants need to identify ethical issues and reconcile conflicts among competing stakeholders’ interests in all major areas of accounting practice . \",id:\"ACCT 430\",name:\"ACCT 430 Accounting Ethics\"}),\n",
       "  'p': (ed4c58a)-[:HasPrerequisite]->(c39873c)},\n",
       " {'m': (c5553b9:Course {description:\"Examination of internal audit/auditors and their relationship to management , the investors , the regulators , and the external auditors . \",id:\"ACCT 463\",name:\"ACCT 463 Internal Audit\"}),\n",
       "  'p': (c5553b9)-[:HasPrerequisite]->(d52cef4)},\n",
       " {'m': (f8627b0:Course {description:\"Course builds on the background developed in ACCT 373  , specifically the process used by external auditors to conduct financial statement audits . \",id:\"ACCT 473\",name:\"ACCT 473 Financial Statement Auditing\"}),\n",
       "  'p': (f8627b0)-[:HasPrerequisite]->(d52cef4)},\n",
       " {'m': (ed4c58a:Course {description:\"Theoretical knowledge and practical application accountants need to identify ethical issues and reconcile conflicts among competing stakeholders’ interests in all major areas of accounting practice . \",id:\"ACCT 430\",name:\"ACCT 430 Accounting Ethics\"}),\n",
       "  'p': (ed4c58a)-[:HasPrerequisite]->(d52cef4)},\n",
       " {'m': (c56650a:Course {description:\"Capabilities to identify and articulate tax issues related to a business entity’s life : formation , investing , financing and operations , and change of form . \",id:\"ACCT 474\",name:\"ACCT 474 Tax Issues for Business\"}),\n",
       "  'p': (c56650a)-[:HasPrerequisite]->(c19353e)},\n",
       " {'m': (ed4c58a:Course {description:\"Theoretical knowledge and practical application accountants need to identify ethical issues and reconcile conflicts among competing stakeholders’ interests in all major areas of accounting practice . \",id:\"ACCT 430\",name:\"ACCT 430 Accounting Ethics\"}),\n",
       "  'p': (ed4c58a)-[:HasPrerequisite]->(c19353e)},\n",
       " {'m': (cca212b:Course {description:\"Develops the ability to identify and understand new areas of emerging guidance involving fair value issues and to recognize and demonstrate appropriate application of methodologies . \",id:\"ACCT 477\",name:\"ACCT 477 Intermediate Fair Value Issues in Accounting\"}),\n",
       "  'p': (cca212b)-[:HasPrerequisite]->(a9cdb9f)},\n",
       " {'m': (ed4c58a:Course {description:\"Theoretical knowledge and practical application accountants need to identify ethical issues and reconcile conflicts among competing stakeholders’ interests in all major areas of accounting practice . \",id:\"ACCT 430\",name:\"ACCT 430 Accounting Ethics\"}),\n",
       "  'p': (ed4c58a)-[:HasPrerequisite]->(a9cdb9f)},\n",
       " {'m': (db3059d:Course {description:\"Examines the fundamentals of accounting systems development . Introduction to the concepts of implementation and support , with emphasis on system quality assurance , evaluation and attestation . \",id:\"ACCT 479\",name:\"ACCT 479 Accounting Systems Development\"}),\n",
       "  'p': (db3059d)-[:HasPrerequisite]->(abb10d0)}]"
      ]
     },
     "execution_count": 15,
     "metadata": {},
     "output_type": "execute_result"
    }
   ],
   "source": [
    "list = graph_3.data(\"MATCH p=(m)-[:HasPrerequisite]->(n) \\\n",
    "where (m)-[:UnderProgram]->({name: 'Accounting (BS)'}) \\\n",
    "and (n)-[:UnderProgram]->({name: 'Accounting (BS)'}) return m, p\")\n",
    "list"
   ]
  },
  {
   "cell_type": "code",
   "execution_count": 16,
   "metadata": {},
   "outputs": [
    {
     "data": {
      "text/plain": [
       "[{'m': (b8306bf:Course {description:\"Financial problems of business enterprise ; function of financial manager ; sources of funds ; instruments , institutions , and practices of finance ; problems of financial management using case studies . \",id:\"BUAD 306\",name:\"BUAD 306 Business Finance\"}),\n",
       "  'n': (ebccd04:Course {description:\"Emphasis on understanding financial statements and the impact of business transactions on information presented to management and interested stakeholders .\",id:\"BUAD 280\",name:\"BUAD 280 Introduction to Financial Accounting\"})},\n",
       " {'m': (c11871c:Course {description:\"An emphasis on how accounting information , combined with a variety of techniques and best practices , supports enhanced management decision making . \",id:\"BUAD 281\",name:\"BUAD 281 Introduction to Managerial Accounting\"}),\n",
       "  'n': (ebccd04:Course {description:\"Emphasis on understanding financial statements and the impact of business transactions on information presented to management and interested stakeholders .\",id:\"BUAD 280\",name:\"BUAD 280 Introduction to Financial Accounting\"})},\n",
       " {'m': (f78f00b:Course {description:\"Introduction to understanding how management control systems can enhance achievement of the organization’s objectives and strategies . \",id:\"ACCT 476\",name:\"ACCT 476 Performance Measurement Issues\"}),\n",
       "  'n': (c11871c:Course {description:\"An emphasis on how accounting information , combined with a variety of techniques and best practices , supports enhanced management decision making . \",id:\"BUAD 281\",name:\"BUAD 281 Introduction to Managerial Accounting\"})},\n",
       " {'m': (c19353e:Course {description:\"Basic tax principles , introduction to U .S . federal , state and local tax systems , income and expense definitions , property transactions , and fundamentals of individual taxation . \",id:\"ACCT 374\",name:\"ACCT 374 Introduction to Tax Issues\"}),\n",
       "  'n': (c11871c:Course {description:\"An emphasis on how accounting information , combined with a variety of techniques and best practices , supports enhanced management decision making . \",id:\"BUAD 281\",name:\"BUAD 281 Introduction to Managerial Accounting\"})},\n",
       " {'m': (c39873c:Course {description:\"Understanding of decision-making , problem solving , and research skills as a supplement to managerial accounting knowledge for accounting professionals . \",id:\"ACCT 372\",name:\"ACCT 372 Internal Reporting Issues\"}),\n",
       "  'n': (c11871c:Course {description:\"An emphasis on how accounting information , combined with a variety of techniques and best practices , supports enhanced management decision making . \",id:\"BUAD 281\",name:\"BUAD 281 Introduction to Managerial Accounting\"})},\n",
       " {'m': (cf0307d:Course {description:\"Understanding of technology and controls needed to capture data used by professionals in financial and managerial accounting , auditing and taxation . \",id:\"ACCT 371\",name:\"ACCT 371 Introduction to Accounting Systems\"}),\n",
       "  'n': (c11871c:Course {description:\"An emphasis on how accounting information , combined with a variety of techniques and best practices , supports enhanced management decision making . \",id:\"BUAD 281\",name:\"BUAD 281 Introduction to Managerial Accounting\"})},\n",
       " {'m': (bc0530f:Course {description:\"Understanding of decision-making , problem solving , and research skills as a supplement to financial accounting knowledge for accounting professionals . \",id:\"ACCT 370\",name:\"ACCT 370 External Financial Reporting Issues\"}),\n",
       "  'n': (c11871c:Course {description:\"An emphasis on how accounting information , combined with a variety of techniques and best practices , supports enhanced management decision making . \",id:\"BUAD 281\",name:\"BUAD 281 Introduction to Managerial Accounting\"})},\n",
       " {'m': (ac60dc4:Course {description:\"Examination of managerial decision-making , planning , and policy under changing environments ; readings , cases , exercises , simulations . \",id:\"BUAD 497\",name:\"BUAD 497 Strategic Management\"}),\n",
       "  'n': (c11871c:Course {description:\"An emphasis on how accounting information , combined with a variety of techniques and best practices , supports enhanced management decision making . \",id:\"BUAD 281\",name:\"BUAD 281 Introduction to Managerial Accounting\"})},\n",
       " {'m': (ac60dc4:Course {description:\"Examination of managerial decision-making , planning , and policy under changing environments ; readings , cases , exercises , simulations . \",id:\"BUAD 497\",name:\"BUAD 497 Strategic Management\"}),\n",
       "  'n': (cc1aee9:Course {description:\"Theory , practices , and techniques essential to communication in accounting . Interpersonal and group communication ; oral presentations ; writing ; use of communication technologies ; communication strategies for varied audiences .\",id:\"BUAD 302\",name:\"BUAD 302T Communication Strategy in Accounting\"})},\n",
       " {'m': (ac60dc4:Course {description:\"Examination of managerial decision-making , planning , and policy under changing environments ; readings , cases , exercises , simulations . \",id:\"BUAD 497\",name:\"BUAD 497 Strategic Management\"}),\n",
       "  'n': (e660105:Course {description:\"The role of leadership in business organizations ; concepts and skills for managing oneself and others .\",id:\"BUAD 304\",name:\"BUAD 304 Organizational Behavior and Leadership\"})},\n",
       " {'m': (c81a144:Course {description:\"Examination of the role of financial statement analysis in the prediction of a firm’s future financial performance . \",id:\"ACCT 416\",name:\"ACCT 416 Financial Reporting and Analysis\"}),\n",
       "  'n': (b8306bf:Course {description:\"Financial problems of business enterprise ; function of financial manager ; sources of funds ; instruments , institutions , and practices of finance ; problems of financial management using case studies . \",id:\"BUAD 306\",name:\"BUAD 306 Business Finance\"})},\n",
       " {'m': (ac60dc4:Course {description:\"Examination of managerial decision-making , planning , and policy under changing environments ; readings , cases , exercises , simulations . \",id:\"BUAD 497\",name:\"BUAD 497 Strategic Management\"}),\n",
       "  'n': (b8306bf:Course {description:\"Financial problems of business enterprise ; function of financial manager ; sources of funds ; instruments , institutions , and practices of finance ; problems of financial management using case studies . \",id:\"BUAD 306\",name:\"BUAD 306 Business Finance\"})},\n",
       " {'m': (ac60dc4:Course {description:\"Examination of managerial decision-making , planning , and policy under changing environments ; readings , cases , exercises , simulations . \",id:\"BUAD 497\",name:\"BUAD 497 Strategic Management\"}),\n",
       "  'n': (efbca44:Course {description:\"Develops a managerial viewpoint in planning and evaluating marketing decisions of the firm : products , pricing , channels , promotion , information processing , legal implications , and marketing in contemporary society .\",id:\"BUAD 307\",name:\"BUAD 307 Marketing Fundamentals\"})},\n",
       " {'m': (b8306bf:Course {description:\"Financial problems of business enterprise ; function of financial manager ; sources of funds ; instruments , institutions , and practices of finance ; problems of financial management using case studies . \",id:\"BUAD 306\",name:\"BUAD 306 Business Finance\"}),\n",
       "  'n': (dc51ade:Course {description:\"Development and business applications of : theory of the firm ; theory of the consumer ; intertemporal decisions ; decisions under risk ; market failures ; industrial and enterprise structure . Not for major credit for : economics , economics/mathematics , social sciences (economics) majors . \",id:\"ECON 351\",name:\"ECON 351x Microeconomics for Business\"})},\n",
       " {'m': (dc51ade:Course {description:\"Development and business applications of : theory of the firm ; theory of the consumer ; intertemporal decisions ; decisions under risk ; market failures ; industrial and enterprise structure . Not for major credit for : economics , economics/mathematics , social sciences (economics) majors . \",id:\"ECON 351\",name:\"ECON 351x Microeconomics for Business\"}),\n",
       "  'n': (bff043d:Course {description:\"Derivatives ; extrema . Definite integral ; fundamental theorem of calculus . Extrema and definite integrals for functions of several variables . \",id:\"MATH 118\",name:\"MATH 118gx Fundamental Principles of Calculus\"})},\n",
       " {'m': (dc51ade:Course {description:\"Development and business applications of : theory of the firm ; theory of the consumer ; intertemporal decisions ; decisions under risk ; market failures ; industrial and enterprise structure . Not for major credit for : economics , economics/mathematics , social sciences (economics) majors . \",id:\"ECON 351\",name:\"ECON 351x Microeconomics for Business\"}),\n",
       "  'n': (ede071c:Course {description:\"Limits ; continuity , derivatives and applications ; antiderivatives ; the fundamental theorem of calculus ; exponential and logarithmic functions . \",id:\"MATH 125\",name:\"MATH 125g Calculus I\"})},\n",
       " {'m': (fee484c:Course {description:\"Understanding/identifying methods of fraudulent financial reporting , and signals that financial statements were fictitiously prepared ; major frameworks for analyzing ethical dilemmas ; reforms in corporate reporting environment . \",id:\"ACCT 462\",name:\"ACCT 462 Detecting Fraudulent Financial Reporting\"}),\n",
       "  'n': (bc0530f:Course {description:\"Understanding of decision-making , problem solving , and research skills as a supplement to financial accounting knowledge for accounting professionals . \",id:\"ACCT 370\",name:\"ACCT 370 External Financial Reporting Issues\"})},\n",
       " {'m': (c5553b9:Course {description:\"Examination of internal audit/auditors and their relationship to management , the investors , the regulators , and the external auditors . \",id:\"ACCT 463\",name:\"ACCT 463 Internal Audit\"}),\n",
       "  'n': (bc0530f:Course {description:\"Understanding of decision-making , problem solving , and research skills as a supplement to financial accounting knowledge for accounting professionals . \",id:\"ACCT 370\",name:\"ACCT 370 External Financial Reporting Issues\"})},\n",
       " {'m': (c81a144:Course {description:\"Examination of the role of financial statement analysis in the prediction of a firm’s future financial performance . \",id:\"ACCT 416\",name:\"ACCT 416 Financial Reporting and Analysis\"}),\n",
       "  'n': (bc0530f:Course {description:\"Understanding of decision-making , problem solving , and research skills as a supplement to financial accounting knowledge for accounting professionals . \",id:\"ACCT 370\",name:\"ACCT 370 External Financial Reporting Issues\"})},\n",
       " {'m': (a074004:Course {description:\"Develop capabilities to identify and resolve advanced external financial reporting challenges , focusing primarily on operating , financing , and investing activities of business enterprises . \",id:\"ACCT 470\",name:\"ACCT 470 Advanced External Financial Reporting Issues\"}),\n",
       "  'n': (bc0530f:Course {description:\"Understanding of decision-making , problem solving , and research skills as a supplement to financial accounting knowledge for accounting professionals . \",id:\"ACCT 370\",name:\"ACCT 370 External Financial Reporting Issues\"})},\n",
       " {'m': (a9cdb9f:Course {description:\"Explores Accounting Standards Codification (ASC) 820 “Fair Value Measurements and Disclosures” and reviews the historical background of US GAAP fair value guidance . \",id:\"ACCT 377\",name:\"ACCT 377 Valuation for Financial Statement Purposes\"}),\n",
       "  'n': (bc0530f:Course {description:\"Understanding of decision-making , problem solving , and research skills as a supplement to financial accounting knowledge for accounting professionals . \",id:\"ACCT 370\",name:\"ACCT 370 External Financial Reporting Issues\"})},\n",
       " {'m': (d52cef4:Course {description:\"Exploration of the requisite skills and knowledge needed to offer services in assurance , attestation or auditing engagements . \",id:\"ACCT 373\",name:\"ACCT 373 Introduction to Auditing and Assurance Services\"}),\n",
       "  'n': (bc0530f:Course {description:\"Understanding of decision-making , problem solving , and research skills as a supplement to financial accounting knowledge for accounting professionals . \",id:\"ACCT 370\",name:\"ACCT 370 External Financial Reporting Issues\"})},\n",
       " {'m': (abb10d0:Course {description:\"Explores the design of accounting systems . Introduction to tools and techniques for analyzing and designing accounting systems with an emphasis on system controls and reporting . \",id:\"ACCT 478\",name:\"ACCT 478 Accounting Systems Design\"}),\n",
       "  'n': (cf0307d:Course {description:\"Understanding of technology and controls needed to capture data used by professionals in financial and managerial accounting , auditing and taxation . \",id:\"ACCT 371\",name:\"ACCT 371 Introduction to Accounting Systems\"})},\n",
       " {'m': (e50f859:Course {description:\"Issues related to the security , control , and auditing of accounting information systems . \",id:\"ACCT 475\",name:\"ACCT 475 Systems Security and Audit\"}),\n",
       "  'n': (cf0307d:Course {description:\"Understanding of technology and controls needed to capture data used by professionals in financial and managerial accounting , auditing and taxation . \",id:\"ACCT 371\",name:\"ACCT 371 Introduction to Accounting Systems\"})},\n",
       " {'m': (a20ef3b:Course {description:\"Issues related to the design , control , and implementation of accounting information systems . \",id:\"ACCT 471\",name:\"ACCT 471 Accounting Information Systems\"}),\n",
       "  'n': (cf0307d:Course {description:\"Understanding of technology and controls needed to capture data used by professionals in financial and managerial accounting , auditing and taxation . \",id:\"ACCT 371\",name:\"ACCT 371 Introduction to Accounting Systems\"})},\n",
       " {'m': (d52cef4:Course {description:\"Exploration of the requisite skills and knowledge needed to offer services in assurance , attestation or auditing engagements . \",id:\"ACCT 373\",name:\"ACCT 373 Introduction to Auditing and Assurance Services\"}),\n",
       "  'n': (cf0307d:Course {description:\"Understanding of technology and controls needed to capture data used by professionals in financial and managerial accounting , auditing and taxation . \",id:\"ACCT 371\",name:\"ACCT 371 Introduction to Accounting Systems\"})},\n",
       " {'m': (f04b199:Course {description:\"Understanding of systems providing cost information useful in management decision-making and problem solving . \",id:\"ACCT 472\",name:\"ACCT 472 Managerial Accounting\"}),\n",
       "  'n': (c39873c:Course {description:\"Understanding of decision-making , problem solving , and research skills as a supplement to managerial accounting knowledge for accounting professionals . \",id:\"ACCT 372\",name:\"ACCT 372 Internal Reporting Issues\"})},\n",
       " {'m': (ed4c58a:Course {description:\"Theoretical knowledge and practical application accountants need to identify ethical issues and reconcile conflicts among competing stakeholders’ interests in all major areas of accounting practice . \",id:\"ACCT 430\",name:\"ACCT 430 Accounting Ethics\"}),\n",
       "  'n': (c39873c:Course {description:\"Understanding of decision-making , problem solving , and research skills as a supplement to managerial accounting knowledge for accounting professionals . \",id:\"ACCT 372\",name:\"ACCT 372 Internal Reporting Issues\"})},\n",
       " {'m': (c5553b9:Course {description:\"Examination of internal audit/auditors and their relationship to management , the investors , the regulators , and the external auditors . \",id:\"ACCT 463\",name:\"ACCT 463 Internal Audit\"}),\n",
       "  'n': (d52cef4:Course {description:\"Exploration of the requisite skills and knowledge needed to offer services in assurance , attestation or auditing engagements . \",id:\"ACCT 373\",name:\"ACCT 373 Introduction to Auditing and Assurance Services\"})},\n",
       " {'m': (f8627b0:Course {description:\"Course builds on the background developed in ACCT 373  , specifically the process used by external auditors to conduct financial statement audits . \",id:\"ACCT 473\",name:\"ACCT 473 Financial Statement Auditing\"}),\n",
       "  'n': (d52cef4:Course {description:\"Exploration of the requisite skills and knowledge needed to offer services in assurance , attestation or auditing engagements . \",id:\"ACCT 373\",name:\"ACCT 373 Introduction to Auditing and Assurance Services\"})},\n",
       " {'m': (ed4c58a:Course {description:\"Theoretical knowledge and practical application accountants need to identify ethical issues and reconcile conflicts among competing stakeholders’ interests in all major areas of accounting practice . \",id:\"ACCT 430\",name:\"ACCT 430 Accounting Ethics\"}),\n",
       "  'n': (d52cef4:Course {description:\"Exploration of the requisite skills and knowledge needed to offer services in assurance , attestation or auditing engagements . \",id:\"ACCT 373\",name:\"ACCT 373 Introduction to Auditing and Assurance Services\"})},\n",
       " {'m': (c56650a:Course {description:\"Capabilities to identify and articulate tax issues related to a business entity’s life : formation , investing , financing and operations , and change of form . \",id:\"ACCT 474\",name:\"ACCT 474 Tax Issues for Business\"}),\n",
       "  'n': (c19353e:Course {description:\"Basic tax principles , introduction to U .S . federal , state and local tax systems , income and expense definitions , property transactions , and fundamentals of individual taxation . \",id:\"ACCT 374\",name:\"ACCT 374 Introduction to Tax Issues\"})},\n",
       " {'m': (ed4c58a:Course {description:\"Theoretical knowledge and practical application accountants need to identify ethical issues and reconcile conflicts among competing stakeholders’ interests in all major areas of accounting practice . \",id:\"ACCT 430\",name:\"ACCT 430 Accounting Ethics\"}),\n",
       "  'n': (c19353e:Course {description:\"Basic tax principles , introduction to U .S . federal , state and local tax systems , income and expense definitions , property transactions , and fundamentals of individual taxation . \",id:\"ACCT 374\",name:\"ACCT 374 Introduction to Tax Issues\"})},\n",
       " {'m': (cca212b:Course {description:\"Develops the ability to identify and understand new areas of emerging guidance involving fair value issues and to recognize and demonstrate appropriate application of methodologies . \",id:\"ACCT 477\",name:\"ACCT 477 Intermediate Fair Value Issues in Accounting\"}),\n",
       "  'n': (a9cdb9f:Course {description:\"Explores Accounting Standards Codification (ASC) 820 “Fair Value Measurements and Disclosures” and reviews the historical background of US GAAP fair value guidance . \",id:\"ACCT 377\",name:\"ACCT 377 Valuation for Financial Statement Purposes\"})},\n",
       " {'m': (ed4c58a:Course {description:\"Theoretical knowledge and practical application accountants need to identify ethical issues and reconcile conflicts among competing stakeholders’ interests in all major areas of accounting practice . \",id:\"ACCT 430\",name:\"ACCT 430 Accounting Ethics\"}),\n",
       "  'n': (a9cdb9f:Course {description:\"Explores Accounting Standards Codification (ASC) 820 “Fair Value Measurements and Disclosures” and reviews the historical background of US GAAP fair value guidance . \",id:\"ACCT 377\",name:\"ACCT 377 Valuation for Financial Statement Purposes\"})},\n",
       " {'m': (db3059d:Course {description:\"Examines the fundamentals of accounting systems development . Introduction to the concepts of implementation and support , with emphasis on system quality assurance , evaluation and attestation . \",id:\"ACCT 479\",name:\"ACCT 479 Accounting Systems Development\"}),\n",
       "  'n': (abb10d0:Course {description:\"Explores the design of accounting systems . Introduction to tools and techniques for analyzing and designing accounting systems with an emphasis on system controls and reporting . \",id:\"ACCT 478\",name:\"ACCT 478 Accounting Systems Design\"})}]"
      ]
     },
     "execution_count": 16,
     "metadata": {},
     "output_type": "execute_result"
    }
   ],
   "source": [
    "list = graph_3.data(\"MATCH (m)-[:HasPrerequisite]->(n) \\\n",
    "where (m)-[:UnderProgram]->({name: 'Accounting (BS)'}) \\\n",
    "and (n)-[:UnderProgram]->({name: 'Accounting (BS)'}) return m, n\")\n",
    "list"
   ]
  },
  {
   "cell_type": "code",
   "execution_count": 17,
   "metadata": {},
   "outputs": [
    {
     "data": {
      "text/plain": [
       "[{'m': (b8306bf:Course {description:\"Financial problems of business enterprise ; function of financial manager ; sources of funds ; instruments , institutions , and practices of finance ; problems of financial management using case studies . \",id:\"BUAD 306\",name:\"BUAD 306 Business Finance\"}),\n",
       "  'n': (ebccd04:Course {description:\"Emphasis on understanding financial statements and the impact of business transactions on information presented to management and interested stakeholders .\",id:\"BUAD 280\",name:\"BUAD 280 Introduction to Financial Accounting\"})},\n",
       " {'m': (c11871c:Course {description:\"An emphasis on how accounting information , combined with a variety of techniques and best practices , supports enhanced management decision making . \",id:\"BUAD 281\",name:\"BUAD 281 Introduction to Managerial Accounting\"}),\n",
       "  'n': (ebccd04:Course {description:\"Emphasis on understanding financial statements and the impact of business transactions on information presented to management and interested stakeholders .\",id:\"BUAD 280\",name:\"BUAD 280 Introduction to Financial Accounting\"})}]"
      ]
     },
     "execution_count": 17,
     "metadata": {},
     "output_type": "execute_result"
    }
   ],
   "source": [
    "list[:2]"
   ]
  },
  {
   "cell_type": "code",
   "execution_count": 18,
   "metadata": {},
   "outputs": [
    {
     "ename": "SyntaxError",
     "evalue": "Missing parentheses in call to 'print' (<ipython-input-18-65a8dd24dfe8>, line 2)",
     "output_type": "error",
     "traceback": [
      "\u001b[0;36m  File \u001b[0;32m\"<ipython-input-18-65a8dd24dfe8>\"\u001b[0;36m, line \u001b[0;32m2\u001b[0m\n\u001b[0;31m    print i\u001b[0m\n\u001b[0m          ^\u001b[0m\n\u001b[0;31mSyntaxError\u001b[0m\u001b[0;31m:\u001b[0m Missing parentheses in call to 'print'\n"
     ]
    }
   ],
   "source": [
    "for i in list:\n",
    "    print i "
   ]
  },
  {
   "cell_type": "code",
   "execution_count": 19,
   "metadata": {},
   "outputs": [
    {
     "name": "stdout",
     "output_type": "stream",
     "text": [
      "{'m': (b8306bf:Course {description:\"Financial problems of business enterprise ; function of financial manager ; sources of funds ; instruments , institutions , and practices of finance ; problems of financial management using case studies . \",id:\"BUAD 306\",name:\"BUAD 306 Business Finance\"}), 'n': (ebccd04:Course {description:\"Emphasis on understanding financial statements and the impact of business transactions on information presented to management and interested stakeholders .\",id:\"BUAD 280\",name:\"BUAD 280 Introduction to Financial Accounting\"})}\n",
      "{'m': (c11871c:Course {description:\"An emphasis on how accounting information , combined with a variety of techniques and best practices , supports enhanced management decision making . \",id:\"BUAD 281\",name:\"BUAD 281 Introduction to Managerial Accounting\"}), 'n': (ebccd04:Course {description:\"Emphasis on understanding financial statements and the impact of business transactions on information presented to management and interested stakeholders .\",id:\"BUAD 280\",name:\"BUAD 280 Introduction to Financial Accounting\"})}\n",
      "{'m': (f78f00b:Course {description:\"Introduction to understanding how management control systems can enhance achievement of the organization’s objectives and strategies . \",id:\"ACCT 476\",name:\"ACCT 476 Performance Measurement Issues\"}), 'n': (c11871c:Course {description:\"An emphasis on how accounting information , combined with a variety of techniques and best practices , supports enhanced management decision making . \",id:\"BUAD 281\",name:\"BUAD 281 Introduction to Managerial Accounting\"})}\n",
      "{'m': (c19353e:Course {description:\"Basic tax principles , introduction to U .S . federal , state and local tax systems , income and expense definitions , property transactions , and fundamentals of individual taxation . \",id:\"ACCT 374\",name:\"ACCT 374 Introduction to Tax Issues\"}), 'n': (c11871c:Course {description:\"An emphasis on how accounting information , combined with a variety of techniques and best practices , supports enhanced management decision making . \",id:\"BUAD 281\",name:\"BUAD 281 Introduction to Managerial Accounting\"})}\n",
      "{'m': (c39873c:Course {description:\"Understanding of decision-making , problem solving , and research skills as a supplement to managerial accounting knowledge for accounting professionals . \",id:\"ACCT 372\",name:\"ACCT 372 Internal Reporting Issues\"}), 'n': (c11871c:Course {description:\"An emphasis on how accounting information , combined with a variety of techniques and best practices , supports enhanced management decision making . \",id:\"BUAD 281\",name:\"BUAD 281 Introduction to Managerial Accounting\"})}\n",
      "{'m': (cf0307d:Course {description:\"Understanding of technology and controls needed to capture data used by professionals in financial and managerial accounting , auditing and taxation . \",id:\"ACCT 371\",name:\"ACCT 371 Introduction to Accounting Systems\"}), 'n': (c11871c:Course {description:\"An emphasis on how accounting information , combined with a variety of techniques and best practices , supports enhanced management decision making . \",id:\"BUAD 281\",name:\"BUAD 281 Introduction to Managerial Accounting\"})}\n",
      "{'m': (bc0530f:Course {description:\"Understanding of decision-making , problem solving , and research skills as a supplement to financial accounting knowledge for accounting professionals . \",id:\"ACCT 370\",name:\"ACCT 370 External Financial Reporting Issues\"}), 'n': (c11871c:Course {description:\"An emphasis on how accounting information , combined with a variety of techniques and best practices , supports enhanced management decision making . \",id:\"BUAD 281\",name:\"BUAD 281 Introduction to Managerial Accounting\"})}\n",
      "{'m': (ac60dc4:Course {description:\"Examination of managerial decision-making , planning , and policy under changing environments ; readings , cases , exercises , simulations . \",id:\"BUAD 497\",name:\"BUAD 497 Strategic Management\"}), 'n': (c11871c:Course {description:\"An emphasis on how accounting information , combined with a variety of techniques and best practices , supports enhanced management decision making . \",id:\"BUAD 281\",name:\"BUAD 281 Introduction to Managerial Accounting\"})}\n",
      "{'m': (ac60dc4:Course {description:\"Examination of managerial decision-making , planning , and policy under changing environments ; readings , cases , exercises , simulations . \",id:\"BUAD 497\",name:\"BUAD 497 Strategic Management\"}), 'n': (cc1aee9:Course {description:\"Theory , practices , and techniques essential to communication in accounting . Interpersonal and group communication ; oral presentations ; writing ; use of communication technologies ; communication strategies for varied audiences .\",id:\"BUAD 302\",name:\"BUAD 302T Communication Strategy in Accounting\"})}\n",
      "{'m': (ac60dc4:Course {description:\"Examination of managerial decision-making , planning , and policy under changing environments ; readings , cases , exercises , simulations . \",id:\"BUAD 497\",name:\"BUAD 497 Strategic Management\"}), 'n': (e660105:Course {description:\"The role of leadership in business organizations ; concepts and skills for managing oneself and others .\",id:\"BUAD 304\",name:\"BUAD 304 Organizational Behavior and Leadership\"})}\n",
      "{'m': (c81a144:Course {description:\"Examination of the role of financial statement analysis in the prediction of a firm’s future financial performance . \",id:\"ACCT 416\",name:\"ACCT 416 Financial Reporting and Analysis\"}), 'n': (b8306bf:Course {description:\"Financial problems of business enterprise ; function of financial manager ; sources of funds ; instruments , institutions , and practices of finance ; problems of financial management using case studies . \",id:\"BUAD 306\",name:\"BUAD 306 Business Finance\"})}\n",
      "{'m': (ac60dc4:Course {description:\"Examination of managerial decision-making , planning , and policy under changing environments ; readings , cases , exercises , simulations . \",id:\"BUAD 497\",name:\"BUAD 497 Strategic Management\"}), 'n': (b8306bf:Course {description:\"Financial problems of business enterprise ; function of financial manager ; sources of funds ; instruments , institutions , and practices of finance ; problems of financial management using case studies . \",id:\"BUAD 306\",name:\"BUAD 306 Business Finance\"})}\n",
      "{'m': (ac60dc4:Course {description:\"Examination of managerial decision-making , planning , and policy under changing environments ; readings , cases , exercises , simulations . \",id:\"BUAD 497\",name:\"BUAD 497 Strategic Management\"}), 'n': (efbca44:Course {description:\"Develops a managerial viewpoint in planning and evaluating marketing decisions of the firm : products , pricing , channels , promotion , information processing , legal implications , and marketing in contemporary society .\",id:\"BUAD 307\",name:\"BUAD 307 Marketing Fundamentals\"})}\n",
      "{'m': (b8306bf:Course {description:\"Financial problems of business enterprise ; function of financial manager ; sources of funds ; instruments , institutions , and practices of finance ; problems of financial management using case studies . \",id:\"BUAD 306\",name:\"BUAD 306 Business Finance\"}), 'n': (dc51ade:Course {description:\"Development and business applications of : theory of the firm ; theory of the consumer ; intertemporal decisions ; decisions under risk ; market failures ; industrial and enterprise structure . Not for major credit for : economics , economics/mathematics , social sciences (economics) majors . \",id:\"ECON 351\",name:\"ECON 351x Microeconomics for Business\"})}\n",
      "{'m': (dc51ade:Course {description:\"Development and business applications of : theory of the firm ; theory of the consumer ; intertemporal decisions ; decisions under risk ; market failures ; industrial and enterprise structure . Not for major credit for : economics , economics/mathematics , social sciences (economics) majors . \",id:\"ECON 351\",name:\"ECON 351x Microeconomics for Business\"}), 'n': (bff043d:Course {description:\"Derivatives ; extrema . Definite integral ; fundamental theorem of calculus . Extrema and definite integrals for functions of several variables . \",id:\"MATH 118\",name:\"MATH 118gx Fundamental Principles of Calculus\"})}\n",
      "{'m': (dc51ade:Course {description:\"Development and business applications of : theory of the firm ; theory of the consumer ; intertemporal decisions ; decisions under risk ; market failures ; industrial and enterprise structure . Not for major credit for : economics , economics/mathematics , social sciences (economics) majors . \",id:\"ECON 351\",name:\"ECON 351x Microeconomics for Business\"}), 'n': (ede071c:Course {description:\"Limits ; continuity , derivatives and applications ; antiderivatives ; the fundamental theorem of calculus ; exponential and logarithmic functions . \",id:\"MATH 125\",name:\"MATH 125g Calculus I\"})}\n",
      "{'m': (fee484c:Course {description:\"Understanding/identifying methods of fraudulent financial reporting , and signals that financial statements were fictitiously prepared ; major frameworks for analyzing ethical dilemmas ; reforms in corporate reporting environment . \",id:\"ACCT 462\",name:\"ACCT 462 Detecting Fraudulent Financial Reporting\"}), 'n': (bc0530f:Course {description:\"Understanding of decision-making , problem solving , and research skills as a supplement to financial accounting knowledge for accounting professionals . \",id:\"ACCT 370\",name:\"ACCT 370 External Financial Reporting Issues\"})}\n",
      "{'m': (c5553b9:Course {description:\"Examination of internal audit/auditors and their relationship to management , the investors , the regulators , and the external auditors . \",id:\"ACCT 463\",name:\"ACCT 463 Internal Audit\"}), 'n': (bc0530f:Course {description:\"Understanding of decision-making , problem solving , and research skills as a supplement to financial accounting knowledge for accounting professionals . \",id:\"ACCT 370\",name:\"ACCT 370 External Financial Reporting Issues\"})}\n",
      "{'m': (c81a144:Course {description:\"Examination of the role of financial statement analysis in the prediction of a firm’s future financial performance . \",id:\"ACCT 416\",name:\"ACCT 416 Financial Reporting and Analysis\"}), 'n': (bc0530f:Course {description:\"Understanding of decision-making , problem solving , and research skills as a supplement to financial accounting knowledge for accounting professionals . \",id:\"ACCT 370\",name:\"ACCT 370 External Financial Reporting Issues\"})}\n",
      "{'m': (a074004:Course {description:\"Develop capabilities to identify and resolve advanced external financial reporting challenges , focusing primarily on operating , financing , and investing activities of business enterprises . \",id:\"ACCT 470\",name:\"ACCT 470 Advanced External Financial Reporting Issues\"}), 'n': (bc0530f:Course {description:\"Understanding of decision-making , problem solving , and research skills as a supplement to financial accounting knowledge for accounting professionals . \",id:\"ACCT 370\",name:\"ACCT 370 External Financial Reporting Issues\"})}\n",
      "{'m': (a9cdb9f:Course {description:\"Explores Accounting Standards Codification (ASC) 820 “Fair Value Measurements and Disclosures” and reviews the historical background of US GAAP fair value guidance . \",id:\"ACCT 377\",name:\"ACCT 377 Valuation for Financial Statement Purposes\"}), 'n': (bc0530f:Course {description:\"Understanding of decision-making , problem solving , and research skills as a supplement to financial accounting knowledge for accounting professionals . \",id:\"ACCT 370\",name:\"ACCT 370 External Financial Reporting Issues\"})}\n",
      "{'m': (d52cef4:Course {description:\"Exploration of the requisite skills and knowledge needed to offer services in assurance , attestation or auditing engagements . \",id:\"ACCT 373\",name:\"ACCT 373 Introduction to Auditing and Assurance Services\"}), 'n': (bc0530f:Course {description:\"Understanding of decision-making , problem solving , and research skills as a supplement to financial accounting knowledge for accounting professionals . \",id:\"ACCT 370\",name:\"ACCT 370 External Financial Reporting Issues\"})}\n",
      "{'m': (abb10d0:Course {description:\"Explores the design of accounting systems . Introduction to tools and techniques for analyzing and designing accounting systems with an emphasis on system controls and reporting . \",id:\"ACCT 478\",name:\"ACCT 478 Accounting Systems Design\"}), 'n': (cf0307d:Course {description:\"Understanding of technology and controls needed to capture data used by professionals in financial and managerial accounting , auditing and taxation . \",id:\"ACCT 371\",name:\"ACCT 371 Introduction to Accounting Systems\"})}\n",
      "{'m': (e50f859:Course {description:\"Issues related to the security , control , and auditing of accounting information systems . \",id:\"ACCT 475\",name:\"ACCT 475 Systems Security and Audit\"}), 'n': (cf0307d:Course {description:\"Understanding of technology and controls needed to capture data used by professionals in financial and managerial accounting , auditing and taxation . \",id:\"ACCT 371\",name:\"ACCT 371 Introduction to Accounting Systems\"})}\n",
      "{'m': (a20ef3b:Course {description:\"Issues related to the design , control , and implementation of accounting information systems . \",id:\"ACCT 471\",name:\"ACCT 471 Accounting Information Systems\"}), 'n': (cf0307d:Course {description:\"Understanding of technology and controls needed to capture data used by professionals in financial and managerial accounting , auditing and taxation . \",id:\"ACCT 371\",name:\"ACCT 371 Introduction to Accounting Systems\"})}\n",
      "{'m': (d52cef4:Course {description:\"Exploration of the requisite skills and knowledge needed to offer services in assurance , attestation or auditing engagements . \",id:\"ACCT 373\",name:\"ACCT 373 Introduction to Auditing and Assurance Services\"}), 'n': (cf0307d:Course {description:\"Understanding of technology and controls needed to capture data used by professionals in financial and managerial accounting , auditing and taxation . \",id:\"ACCT 371\",name:\"ACCT 371 Introduction to Accounting Systems\"})}\n",
      "{'m': (f04b199:Course {description:\"Understanding of systems providing cost information useful in management decision-making and problem solving . \",id:\"ACCT 472\",name:\"ACCT 472 Managerial Accounting\"}), 'n': (c39873c:Course {description:\"Understanding of decision-making , problem solving , and research skills as a supplement to managerial accounting knowledge for accounting professionals . \",id:\"ACCT 372\",name:\"ACCT 372 Internal Reporting Issues\"})}\n",
      "{'m': (ed4c58a:Course {description:\"Theoretical knowledge and practical application accountants need to identify ethical issues and reconcile conflicts among competing stakeholders’ interests in all major areas of accounting practice . \",id:\"ACCT 430\",name:\"ACCT 430 Accounting Ethics\"}), 'n': (c39873c:Course {description:\"Understanding of decision-making , problem solving , and research skills as a supplement to managerial accounting knowledge for accounting professionals . \",id:\"ACCT 372\",name:\"ACCT 372 Internal Reporting Issues\"})}\n",
      "{'m': (c5553b9:Course {description:\"Examination of internal audit/auditors and their relationship to management , the investors , the regulators , and the external auditors . \",id:\"ACCT 463\",name:\"ACCT 463 Internal Audit\"}), 'n': (d52cef4:Course {description:\"Exploration of the requisite skills and knowledge needed to offer services in assurance , attestation or auditing engagements . \",id:\"ACCT 373\",name:\"ACCT 373 Introduction to Auditing and Assurance Services\"})}\n",
      "{'m': (f8627b0:Course {description:\"Course builds on the background developed in ACCT 373  , specifically the process used by external auditors to conduct financial statement audits . \",id:\"ACCT 473\",name:\"ACCT 473 Financial Statement Auditing\"}), 'n': (d52cef4:Course {description:\"Exploration of the requisite skills and knowledge needed to offer services in assurance , attestation or auditing engagements . \",id:\"ACCT 373\",name:\"ACCT 373 Introduction to Auditing and Assurance Services\"})}\n",
      "{'m': (ed4c58a:Course {description:\"Theoretical knowledge and practical application accountants need to identify ethical issues and reconcile conflicts among competing stakeholders’ interests in all major areas of accounting practice . \",id:\"ACCT 430\",name:\"ACCT 430 Accounting Ethics\"}), 'n': (d52cef4:Course {description:\"Exploration of the requisite skills and knowledge needed to offer services in assurance , attestation or auditing engagements . \",id:\"ACCT 373\",name:\"ACCT 373 Introduction to Auditing and Assurance Services\"})}\n",
      "{'m': (c56650a:Course {description:\"Capabilities to identify and articulate tax issues related to a business entity’s life : formation , investing , financing and operations , and change of form . \",id:\"ACCT 474\",name:\"ACCT 474 Tax Issues for Business\"}), 'n': (c19353e:Course {description:\"Basic tax principles , introduction to U .S . federal , state and local tax systems , income and expense definitions , property transactions , and fundamentals of individual taxation . \",id:\"ACCT 374\",name:\"ACCT 374 Introduction to Tax Issues\"})}\n",
      "{'m': (ed4c58a:Course {description:\"Theoretical knowledge and practical application accountants need to identify ethical issues and reconcile conflicts among competing stakeholders’ interests in all major areas of accounting practice . \",id:\"ACCT 430\",name:\"ACCT 430 Accounting Ethics\"}), 'n': (c19353e:Course {description:\"Basic tax principles , introduction to U .S . federal , state and local tax systems , income and expense definitions , property transactions , and fundamentals of individual taxation . \",id:\"ACCT 374\",name:\"ACCT 374 Introduction to Tax Issues\"})}\n",
      "{'m': (cca212b:Course {description:\"Develops the ability to identify and understand new areas of emerging guidance involving fair value issues and to recognize and demonstrate appropriate application of methodologies . \",id:\"ACCT 477\",name:\"ACCT 477 Intermediate Fair Value Issues in Accounting\"}), 'n': (a9cdb9f:Course {description:\"Explores Accounting Standards Codification (ASC) 820 “Fair Value Measurements and Disclosures” and reviews the historical background of US GAAP fair value guidance . \",id:\"ACCT 377\",name:\"ACCT 377 Valuation for Financial Statement Purposes\"})}\n",
      "{'m': (ed4c58a:Course {description:\"Theoretical knowledge and practical application accountants need to identify ethical issues and reconcile conflicts among competing stakeholders’ interests in all major areas of accounting practice . \",id:\"ACCT 430\",name:\"ACCT 430 Accounting Ethics\"}), 'n': (a9cdb9f:Course {description:\"Explores Accounting Standards Codification (ASC) 820 “Fair Value Measurements and Disclosures” and reviews the historical background of US GAAP fair value guidance . \",id:\"ACCT 377\",name:\"ACCT 377 Valuation for Financial Statement Purposes\"})}\n",
      "{'m': (db3059d:Course {description:\"Examines the fundamentals of accounting systems development . Introduction to the concepts of implementation and support , with emphasis on system quality assurance , evaluation and attestation . \",id:\"ACCT 479\",name:\"ACCT 479 Accounting Systems Development\"}), 'n': (abb10d0:Course {description:\"Explores the design of accounting systems . Introduction to tools and techniques for analyzing and designing accounting systems with an emphasis on system controls and reporting . \",id:\"ACCT 478\",name:\"ACCT 478 Accounting Systems Design\"})}\n"
     ]
    }
   ],
   "source": [
    "for i in list:\n",
    "    print(i)"
   ]
  },
  {
   "cell_type": "code",
   "execution_count": 20,
   "metadata": {},
   "outputs": [
    {
     "ename": "NameError",
     "evalue": "name 'n' is not defined",
     "output_type": "error",
     "traceback": [
      "\u001b[0;31m---------------------------------------------------------------------------\u001b[0m",
      "\u001b[0;31mNameError\u001b[0m                                 Traceback (most recent call last)",
      "\u001b[0;32m<ipython-input-20-592a27b76198>\u001b[0m in \u001b[0;36m<module>\u001b[0;34m()\u001b[0m\n\u001b[1;32m      1\u001b[0m \u001b[0;32mfor\u001b[0m \u001b[0mi\u001b[0m \u001b[0;32min\u001b[0m \u001b[0mlist\u001b[0m\u001b[0;34m:\u001b[0m\u001b[0;34m\u001b[0m\u001b[0m\n\u001b[0;32m----> 2\u001b[0;31m     \u001b[0mprint\u001b[0m\u001b[0;34m(\u001b[0m\u001b[0mi\u001b[0m\u001b[0;34m[\u001b[0m\u001b[0mn\u001b[0m\u001b[0;34m]\u001b[0m\u001b[0;34m)\u001b[0m\u001b[0;34m\u001b[0m\u001b[0m\n\u001b[0m",
      "\u001b[0;31mNameError\u001b[0m: name 'n' is not defined"
     ]
    }
   ],
   "source": [
    "for i in list:\n",
    "    print(i[n])"
   ]
  },
  {
   "cell_type": "code",
   "execution_count": 21,
   "metadata": {},
   "outputs": [
    {
     "name": "stdout",
     "output_type": "stream",
     "text": [
      "(ebccd04:Course {description:\"Emphasis on understanding financial statements and the impact of business transactions on information presented to management and interested stakeholders .\",id:\"BUAD 280\",name:\"BUAD 280 Introduction to Financial Accounting\"})\n",
      "(ebccd04:Course {description:\"Emphasis on understanding financial statements and the impact of business transactions on information presented to management and interested stakeholders .\",id:\"BUAD 280\",name:\"BUAD 280 Introduction to Financial Accounting\"})\n",
      "(c11871c:Course {description:\"An emphasis on how accounting information , combined with a variety of techniques and best practices , supports enhanced management decision making . \",id:\"BUAD 281\",name:\"BUAD 281 Introduction to Managerial Accounting\"})\n",
      "(c11871c:Course {description:\"An emphasis on how accounting information , combined with a variety of techniques and best practices , supports enhanced management decision making . \",id:\"BUAD 281\",name:\"BUAD 281 Introduction to Managerial Accounting\"})\n",
      "(c11871c:Course {description:\"An emphasis on how accounting information , combined with a variety of techniques and best practices , supports enhanced management decision making . \",id:\"BUAD 281\",name:\"BUAD 281 Introduction to Managerial Accounting\"})\n",
      "(c11871c:Course {description:\"An emphasis on how accounting information , combined with a variety of techniques and best practices , supports enhanced management decision making . \",id:\"BUAD 281\",name:\"BUAD 281 Introduction to Managerial Accounting\"})\n",
      "(c11871c:Course {description:\"An emphasis on how accounting information , combined with a variety of techniques and best practices , supports enhanced management decision making . \",id:\"BUAD 281\",name:\"BUAD 281 Introduction to Managerial Accounting\"})\n",
      "(c11871c:Course {description:\"An emphasis on how accounting information , combined with a variety of techniques and best practices , supports enhanced management decision making . \",id:\"BUAD 281\",name:\"BUAD 281 Introduction to Managerial Accounting\"})\n",
      "(cc1aee9:Course {description:\"Theory , practices , and techniques essential to communication in accounting . Interpersonal and group communication ; oral presentations ; writing ; use of communication technologies ; communication strategies for varied audiences .\",id:\"BUAD 302\",name:\"BUAD 302T Communication Strategy in Accounting\"})\n",
      "(e660105:Course {description:\"The role of leadership in business organizations ; concepts and skills for managing oneself and others .\",id:\"BUAD 304\",name:\"BUAD 304 Organizational Behavior and Leadership\"})\n",
      "(b8306bf:Course {description:\"Financial problems of business enterprise ; function of financial manager ; sources of funds ; instruments , institutions , and practices of finance ; problems of financial management using case studies . \",id:\"BUAD 306\",name:\"BUAD 306 Business Finance\"})\n",
      "(b8306bf:Course {description:\"Financial problems of business enterprise ; function of financial manager ; sources of funds ; instruments , institutions , and practices of finance ; problems of financial management using case studies . \",id:\"BUAD 306\",name:\"BUAD 306 Business Finance\"})\n",
      "(efbca44:Course {description:\"Develops a managerial viewpoint in planning and evaluating marketing decisions of the firm : products , pricing , channels , promotion , information processing , legal implications , and marketing in contemporary society .\",id:\"BUAD 307\",name:\"BUAD 307 Marketing Fundamentals\"})\n",
      "(dc51ade:Course {description:\"Development and business applications of : theory of the firm ; theory of the consumer ; intertemporal decisions ; decisions under risk ; market failures ; industrial and enterprise structure . Not for major credit for : economics , economics/mathematics , social sciences (economics) majors . \",id:\"ECON 351\",name:\"ECON 351x Microeconomics for Business\"})\n",
      "(bff043d:Course {description:\"Derivatives ; extrema . Definite integral ; fundamental theorem of calculus . Extrema and definite integrals for functions of several variables . \",id:\"MATH 118\",name:\"MATH 118gx Fundamental Principles of Calculus\"})\n",
      "(ede071c:Course {description:\"Limits ; continuity , derivatives and applications ; antiderivatives ; the fundamental theorem of calculus ; exponential and logarithmic functions . \",id:\"MATH 125\",name:\"MATH 125g Calculus I\"})\n",
      "(bc0530f:Course {description:\"Understanding of decision-making , problem solving , and research skills as a supplement to financial accounting knowledge for accounting professionals . \",id:\"ACCT 370\",name:\"ACCT 370 External Financial Reporting Issues\"})\n",
      "(bc0530f:Course {description:\"Understanding of decision-making , problem solving , and research skills as a supplement to financial accounting knowledge for accounting professionals . \",id:\"ACCT 370\",name:\"ACCT 370 External Financial Reporting Issues\"})\n",
      "(bc0530f:Course {description:\"Understanding of decision-making , problem solving , and research skills as a supplement to financial accounting knowledge for accounting professionals . \",id:\"ACCT 370\",name:\"ACCT 370 External Financial Reporting Issues\"})\n",
      "(bc0530f:Course {description:\"Understanding of decision-making , problem solving , and research skills as a supplement to financial accounting knowledge for accounting professionals . \",id:\"ACCT 370\",name:\"ACCT 370 External Financial Reporting Issues\"})\n",
      "(bc0530f:Course {description:\"Understanding of decision-making , problem solving , and research skills as a supplement to financial accounting knowledge for accounting professionals . \",id:\"ACCT 370\",name:\"ACCT 370 External Financial Reporting Issues\"})\n",
      "(bc0530f:Course {description:\"Understanding of decision-making , problem solving , and research skills as a supplement to financial accounting knowledge for accounting professionals . \",id:\"ACCT 370\",name:\"ACCT 370 External Financial Reporting Issues\"})\n",
      "(cf0307d:Course {description:\"Understanding of technology and controls needed to capture data used by professionals in financial and managerial accounting , auditing and taxation . \",id:\"ACCT 371\",name:\"ACCT 371 Introduction to Accounting Systems\"})\n",
      "(cf0307d:Course {description:\"Understanding of technology and controls needed to capture data used by professionals in financial and managerial accounting , auditing and taxation . \",id:\"ACCT 371\",name:\"ACCT 371 Introduction to Accounting Systems\"})\n",
      "(cf0307d:Course {description:\"Understanding of technology and controls needed to capture data used by professionals in financial and managerial accounting , auditing and taxation . \",id:\"ACCT 371\",name:\"ACCT 371 Introduction to Accounting Systems\"})\n",
      "(cf0307d:Course {description:\"Understanding of technology and controls needed to capture data used by professionals in financial and managerial accounting , auditing and taxation . \",id:\"ACCT 371\",name:\"ACCT 371 Introduction to Accounting Systems\"})\n",
      "(c39873c:Course {description:\"Understanding of decision-making , problem solving , and research skills as a supplement to managerial accounting knowledge for accounting professionals . \",id:\"ACCT 372\",name:\"ACCT 372 Internal Reporting Issues\"})\n",
      "(c39873c:Course {description:\"Understanding of decision-making , problem solving , and research skills as a supplement to managerial accounting knowledge for accounting professionals . \",id:\"ACCT 372\",name:\"ACCT 372 Internal Reporting Issues\"})\n",
      "(d52cef4:Course {description:\"Exploration of the requisite skills and knowledge needed to offer services in assurance , attestation or auditing engagements . \",id:\"ACCT 373\",name:\"ACCT 373 Introduction to Auditing and Assurance Services\"})\n",
      "(d52cef4:Course {description:\"Exploration of the requisite skills and knowledge needed to offer services in assurance , attestation or auditing engagements . \",id:\"ACCT 373\",name:\"ACCT 373 Introduction to Auditing and Assurance Services\"})\n",
      "(d52cef4:Course {description:\"Exploration of the requisite skills and knowledge needed to offer services in assurance , attestation or auditing engagements . \",id:\"ACCT 373\",name:\"ACCT 373 Introduction to Auditing and Assurance Services\"})\n",
      "(c19353e:Course {description:\"Basic tax principles , introduction to U .S . federal , state and local tax systems , income and expense definitions , property transactions , and fundamentals of individual taxation . \",id:\"ACCT 374\",name:\"ACCT 374 Introduction to Tax Issues\"})\n",
      "(c19353e:Course {description:\"Basic tax principles , introduction to U .S . federal , state and local tax systems , income and expense definitions , property transactions , and fundamentals of individual taxation . \",id:\"ACCT 374\",name:\"ACCT 374 Introduction to Tax Issues\"})\n",
      "(a9cdb9f:Course {description:\"Explores Accounting Standards Codification (ASC) 820 “Fair Value Measurements and Disclosures” and reviews the historical background of US GAAP fair value guidance . \",id:\"ACCT 377\",name:\"ACCT 377 Valuation for Financial Statement Purposes\"})\n",
      "(a9cdb9f:Course {description:\"Explores Accounting Standards Codification (ASC) 820 “Fair Value Measurements and Disclosures” and reviews the historical background of US GAAP fair value guidance . \",id:\"ACCT 377\",name:\"ACCT 377 Valuation for Financial Statement Purposes\"})\n",
      "(abb10d0:Course {description:\"Explores the design of accounting systems . Introduction to tools and techniques for analyzing and designing accounting systems with an emphasis on system controls and reporting . \",id:\"ACCT 478\",name:\"ACCT 478 Accounting Systems Design\"})\n"
     ]
    }
   ],
   "source": [
    "for i in list:\n",
    "    print(i['n'])"
   ]
  },
  {
   "cell_type": "code",
   "execution_count": 23,
   "metadata": {},
   "outputs": [
    {
     "ename": "AttributeError",
     "evalue": "'Node' object has no attribute 'description'",
     "output_type": "error",
     "traceback": [
      "\u001b[0;31m---------------------------------------------------------------------------\u001b[0m",
      "\u001b[0;31mAttributeError\u001b[0m                            Traceback (most recent call last)",
      "\u001b[0;32m<ipython-input-23-1375d6dfffba>\u001b[0m in \u001b[0;36m<module>\u001b[0;34m()\u001b[0m\n\u001b[0;32m----> 1\u001b[0;31m \u001b[0mlist\u001b[0m\u001b[0;34m[\u001b[0m\u001b[0;36m0\u001b[0m\u001b[0;34m]\u001b[0m\u001b[0;34m[\u001b[0m\u001b[0;34m'n'\u001b[0m\u001b[0;34m]\u001b[0m\u001b[0;34m.\u001b[0m\u001b[0mdescription\u001b[0m\u001b[0;34m\u001b[0m\u001b[0m\n\u001b[0m",
      "\u001b[0;31mAttributeError\u001b[0m: 'Node' object has no attribute 'description'"
     ]
    }
   ],
   "source": [
    "list[0]['n'].description"
   ]
  },
  {
   "cell_type": "code",
   "execution_count": 24,
   "metadata": {},
   "outputs": [
    {
     "ename": "NameError",
     "evalue": "name 'graph' is not defined",
     "output_type": "error",
     "traceback": [
      "\u001b[0;31m---------------------------------------------------------------------------\u001b[0m",
      "\u001b[0;31mNameError\u001b[0m                                 Traceback (most recent call last)",
      "\u001b[0;32m<ipython-input-24-abbbd02d42e9>\u001b[0m in \u001b[0;36m<module>\u001b[0;34m()\u001b[0m\n\u001b[0;32m----> 1\u001b[0;31m \u001b[0madjPair\u001b[0m \u001b[0;34m=\u001b[0m \u001b[0mgraph\u001b[0m\u001b[0;34m.\u001b[0m\u001b[0mdata\u001b[0m\u001b[0;34m(\u001b[0m\u001b[0;34m\"MATCH (m)-[:HasPrerequisite]->(n)         WHERE (m)-[:UnderProgram]->({name: 'Accounting (BS)'})         and (n)-[:UnderProgram]->({name: 'Accounting (BS)'})         RETURN n.id, m.id\"\u001b[0m\u001b[0;34m)\u001b[0m\u001b[0;34m\u001b[0m\u001b[0m\n\u001b[0m",
      "\u001b[0;31mNameError\u001b[0m: name 'graph' is not defined"
     ]
    }
   ],
   "source": [
    "adjPair = graph.data(\"MATCH (m)-[:HasPrerequisite]->(n) \\\n",
    "        WHERE (m)-[:UnderProgram]->({name: 'Accounting (BS)'}) \\\n",
    "        and (n)-[:UnderProgram]->({name: 'Accounting (BS)'}) \\\n",
    "        RETURN n.id, m.id\")"
   ]
  },
  {
   "cell_type": "code",
   "execution_count": 31,
   "metadata": {},
   "outputs": [
    {
     "data": {
      "text/plain": [
       "[{'m.id': 'BUAD 306', 'n.id': 'BUAD 280'},\n",
       " {'m.id': 'BUAD 281', 'n.id': 'BUAD 280'},\n",
       " {'m.id': 'ACCT 476', 'n.id': 'BUAD 281'},\n",
       " {'m.id': 'ACCT 374', 'n.id': 'BUAD 281'},\n",
       " {'m.id': 'ACCT 372', 'n.id': 'BUAD 281'},\n",
       " {'m.id': 'ACCT 371', 'n.id': 'BUAD 281'},\n",
       " {'m.id': 'ACCT 370', 'n.id': 'BUAD 281'},\n",
       " {'m.id': 'BUAD 497', 'n.id': 'BUAD 281'},\n",
       " {'m.id': 'BUAD 497', 'n.id': 'BUAD 302'},\n",
       " {'m.id': 'BUAD 497', 'n.id': 'BUAD 304'},\n",
       " {'m.id': 'ACCT 416', 'n.id': 'BUAD 306'},\n",
       " {'m.id': 'BUAD 497', 'n.id': 'BUAD 306'},\n",
       " {'m.id': 'BUAD 497', 'n.id': 'BUAD 307'},\n",
       " {'m.id': 'BUAD 306', 'n.id': 'ECON 351'},\n",
       " {'m.id': 'ECON 351', 'n.id': 'MATH 118'},\n",
       " {'m.id': 'ECON 351', 'n.id': 'MATH 125'},\n",
       " {'m.id': 'ACCT 462', 'n.id': 'ACCT 370'},\n",
       " {'m.id': 'ACCT 463', 'n.id': 'ACCT 370'},\n",
       " {'m.id': 'ACCT 416', 'n.id': 'ACCT 370'},\n",
       " {'m.id': 'ACCT 470', 'n.id': 'ACCT 370'},\n",
       " {'m.id': 'ACCT 377', 'n.id': 'ACCT 370'},\n",
       " {'m.id': 'ACCT 373', 'n.id': 'ACCT 370'},\n",
       " {'m.id': 'ACCT 478', 'n.id': 'ACCT 371'},\n",
       " {'m.id': 'ACCT 475', 'n.id': 'ACCT 371'},\n",
       " {'m.id': 'ACCT 471', 'n.id': 'ACCT 371'},\n",
       " {'m.id': 'ACCT 373', 'n.id': 'ACCT 371'},\n",
       " {'m.id': 'ACCT 472', 'n.id': 'ACCT 372'},\n",
       " {'m.id': 'ACCT 430', 'n.id': 'ACCT 372'},\n",
       " {'m.id': 'ACCT 463', 'n.id': 'ACCT 373'},\n",
       " {'m.id': 'ACCT 473', 'n.id': 'ACCT 373'},\n",
       " {'m.id': 'ACCT 430', 'n.id': 'ACCT 373'},\n",
       " {'m.id': 'ACCT 474', 'n.id': 'ACCT 374'},\n",
       " {'m.id': 'ACCT 430', 'n.id': 'ACCT 374'},\n",
       " {'m.id': 'ACCT 477', 'n.id': 'ACCT 377'},\n",
       " {'m.id': 'ACCT 430', 'n.id': 'ACCT 377'},\n",
       " {'m.id': 'ACCT 479', 'n.id': 'ACCT 478'}]"
      ]
     },
     "execution_count": 31,
     "metadata": {},
     "output_type": "execute_result"
    }
   ],
   "source": [
    "adjPair = graph_3.data(\"MATCH (m)-[:HasPrerequisite]->(n) \\\n",
    "        WHERE (m)-[:UnderProgram]->({name: 'Accounting (BS)'}) \\\n",
    "        and (n)-[:UnderProgram]->({name: 'Accounting (BS)'}) \\\n",
    "        RETURN m.id, n.id\")\n",
    "adjPair"
   ]
  },
  {
   "cell_type": "code",
   "execution_count": 30,
   "metadata": {},
   "outputs": [
    {
     "data": {
      "text/plain": [
       "{'ACCT 370': [],\n",
       " 'ACCT 371': [],\n",
       " 'ACCT 372': [],\n",
       " 'ACCT 373': [],\n",
       " 'ACCT 374': [],\n",
       " 'ACCT 377': [],\n",
       " 'ACCT 478': [],\n",
       " 'BUAD 280': [],\n",
       " 'BUAD 281': [],\n",
       " 'BUAD 302': [],\n",
       " 'BUAD 304': [],\n",
       " 'BUAD 306': [],\n",
       " 'BUAD 307': [],\n",
       " 'ECON 351': [],\n",
       " 'MATH 118': [],\n",
       " 'MATH 125': []}"
      ]
     },
     "execution_count": 30,
     "metadata": {},
     "output_type": "execute_result"
    }
   ],
   "source": [
    "adjList = {i[\"n.id\"]: [] for i in adjPair}\n",
    "adjList"
   ]
  },
  {
   "cell_type": "code",
   "execution_count": 32,
   "metadata": {},
   "outputs": [
    {
     "data": {
      "text/plain": [
       "{'ACCT 370': ['ACCT 462',\n",
       "  'ACCT 463',\n",
       "  'ACCT 416',\n",
       "  'ACCT 470',\n",
       "  'ACCT 377',\n",
       "  'ACCT 373'],\n",
       " 'ACCT 371': ['ACCT 478', 'ACCT 475', 'ACCT 471', 'ACCT 373'],\n",
       " 'ACCT 372': ['ACCT 472', 'ACCT 430'],\n",
       " 'ACCT 373': ['ACCT 463', 'ACCT 473', 'ACCT 430'],\n",
       " 'ACCT 374': ['ACCT 474', 'ACCT 430'],\n",
       " 'ACCT 377': ['ACCT 477', 'ACCT 430'],\n",
       " 'ACCT 478': ['ACCT 479'],\n",
       " 'BUAD 280': ['BUAD 306', 'BUAD 281'],\n",
       " 'BUAD 281': ['ACCT 476',\n",
       "  'ACCT 374',\n",
       "  'ACCT 372',\n",
       "  'ACCT 371',\n",
       "  'ACCT 370',\n",
       "  'BUAD 497'],\n",
       " 'BUAD 302': ['BUAD 497'],\n",
       " 'BUAD 304': ['BUAD 497'],\n",
       " 'BUAD 306': ['ACCT 416', 'BUAD 497'],\n",
       " 'BUAD 307': ['BUAD 497'],\n",
       " 'ECON 351': ['BUAD 306'],\n",
       " 'MATH 118': ['ECON 351'],\n",
       " 'MATH 125': ['ECON 351']}"
      ]
     },
     "execution_count": 32,
     "metadata": {},
     "output_type": "execute_result"
    }
   ],
   "source": [
    "for pre in adjList:\n",
    "    for edge in adjPair:\n",
    "        if edge[\"n.id\"] == pre:\n",
    "            adjList[pre].append(edge[\"m.id\"])\n",
    "adjList"
   ]
  },
  {
   "cell_type": "code",
   "execution_count": 37,
   "metadata": {},
   "outputs": [
    {
     "data": {
      "text/plain": [
       "{'ACCT 370': 1,\n",
       " 'ACCT 371': 1,\n",
       " 'ACCT 372': 1,\n",
       " 'ACCT 373': 2,\n",
       " 'ACCT 374': 1,\n",
       " 'ACCT 377': 1,\n",
       " 'ACCT 416': 2,\n",
       " 'ACCT 430': 4,\n",
       " 'ACCT 462': 1,\n",
       " 'ACCT 463': 2,\n",
       " 'ACCT 470': 1,\n",
       " 'ACCT 471': 1,\n",
       " 'ACCT 472': 1,\n",
       " 'ACCT 473': 1,\n",
       " 'ACCT 474': 1,\n",
       " 'ACCT 475': 1,\n",
       " 'ACCT 476': 1,\n",
       " 'ACCT 477': 1,\n",
       " 'ACCT 478': 1,\n",
       " 'ACCT 479': 1,\n",
       " 'BUAD 280': 0,\n",
       " 'BUAD 281': 1,\n",
       " 'BUAD 302': 0,\n",
       " 'BUAD 304': 0,\n",
       " 'BUAD 306': 2,\n",
       " 'BUAD 307': 0,\n",
       " 'BUAD 497': 5,\n",
       " 'ECON 351': 2,\n",
       " 'MATH 118': 0,\n",
       " 'MATH 125': 0}"
      ]
     },
     "execution_count": 37,
     "metadata": {},
     "output_type": "execute_result"
    }
   ],
   "source": [
    "courselist = []\n",
    "for i in adjPair:\n",
    "    courselist += [i[\"m.id\"], i[\"n.id\"]]\n",
    "adjList = {i:[] for i in courselist}\n",
    "for post in adjList:\n",
    "    for edge in adjPair:\n",
    "        if edge[\"m.id\"] == post:\n",
    "            adjList[post].append(edge[\"n.id\"])\n",
    "adjList\n",
    "indegree = {i: len(adjList[i]) for i in adjList}\n",
    "indegree"
   ]
  },
  {
   "cell_type": "code",
   "execution_count": 43,
   "metadata": {},
   "outputs": [
    {
     "name": "stdout",
     "output_type": "stream",
     "text": [
      "['BUAD 280', 'BUAD 302', 'BUAD 304', 'BUAD 307', 'MATH 118', 'MATH 125']\n"
     ]
    }
   ],
   "source": [
    "startnodes = [i for i in adjList if len(adjList[i]) == 0]\n",
    "startnodes\n",
    "import queue\n",
    "queue = queue.Queue(maxsize = len(courselist))\n",
    "for i in adjList:\n",
    "    if len(adjList[i]) == 0:\n",
    "        queue.put(i)\n",
    "\n",
    "order = []\n",
    "while not queue.empty():\n",
    "    node = queue.get()\n",
    "    order.append(node)\n",
    "    for x in adjList[node]:\n",
    "        indegree[x] -= 1\n",
    "        if indegree[x] == 0:\n",
    "            queue.put(x)\n",
    "print(order)"
   ]
  },
  {
   "cell_type": "code",
   "execution_count": 44,
   "metadata": {},
   "outputs": [
    {
     "data": {
      "text/plain": [
       "72"
      ]
     },
     "execution_count": 44,
     "metadata": {},
     "output_type": "execute_result"
    }
   ],
   "source": [
    "len(courselist)"
   ]
  },
  {
   "cell_type": "code",
   "execution_count": 46,
   "metadata": {},
   "outputs": [
    {
     "data": {
      "text/plain": [
       "30"
      ]
     },
     "execution_count": 46,
     "metadata": {},
     "output_type": "execute_result"
    }
   ],
   "source": [
    "len(set(courselist))"
   ]
  },
  {
   "cell_type": "code",
   "execution_count": 13,
   "metadata": {},
   "outputs": [
    {
     "name": "stdout",
     "output_type": "stream",
     "text": [
      "['MATH 118', 'BUAD 302', 'BUAD 307', 'MATH 125', 'BUAD 280', 'BUAD 304']\n"
     ]
    }
   ],
   "source": [
    "adjPair = graph_3.data(\"MATCH (m)-[:HasPrerequisite]->(n) \\\n",
    "    WHERE (m)-[:UnderProgram]->({name: 'Accounting (BS)'}) \\\n",
    "    and (n)-[:UnderProgram]->({name: 'Accounting (BS)'}) \\\n",
    "    RETURN m.id, n.id\")\n",
    "# if you take m, must first take n\n",
    "courselist = []\n",
    "for i in adjPair:\n",
    "    courselist += [i[\"m.id\"], i[\"n.id\"]]\n",
    "courselist = list(set(courselist))\n",
    "adjList = {i:[] for i in courselist}\n",
    "for post in adjList:\n",
    "    for edge in adjPair:\n",
    "        if edge[\"m.id\"] == post:\n",
    "            adjList[post].append(edge[\"n.id\"])\n",
    "indegree = {i: len(adjList[i]) for i in adjList}\n",
    "# startnodes = [i for i in adjList if len(adjList[i]) == 0]\n",
    "import queue\n",
    "queue = queue.Queue(maxsize = len(courselist))\n",
    "for i in adjList:\n",
    "    if len(adjList[i]) == 0:\n",
    "        queue.put(i)\n",
    "order = []\n",
    "while not queue.empty():\n",
    "    node = queue.get()\n",
    "    order.append(node)\n",
    "    for x in adjList[node]:\n",
    "        indegree[x] -= 1\n",
    "        if indegree[x] == 0:\n",
    "            queue.put(x)\n",
    "\n",
    "print(order)"
   ]
  },
  {
   "cell_type": "code",
   "execution_count": 15,
   "metadata": {},
   "outputs": [
    {
     "data": {
      "text/plain": [
       "[{'m.id': 'BUAD 306', 'n.id': 'BUAD 280'},\n",
       " {'m.id': 'BUAD 281', 'n.id': 'BUAD 280'},\n",
       " {'m.id': 'ACCT 476', 'n.id': 'BUAD 281'},\n",
       " {'m.id': 'ACCT 374', 'n.id': 'BUAD 281'},\n",
       " {'m.id': 'ACCT 372', 'n.id': 'BUAD 281'},\n",
       " {'m.id': 'ACCT 371', 'n.id': 'BUAD 281'},\n",
       " {'m.id': 'ACCT 370', 'n.id': 'BUAD 281'},\n",
       " {'m.id': 'BUAD 497', 'n.id': 'BUAD 281'},\n",
       " {'m.id': 'BUAD 497', 'n.id': 'BUAD 302'},\n",
       " {'m.id': 'BUAD 497', 'n.id': 'BUAD 304'},\n",
       " {'m.id': 'ACCT 416', 'n.id': 'BUAD 306'},\n",
       " {'m.id': 'BUAD 497', 'n.id': 'BUAD 306'},\n",
       " {'m.id': 'BUAD 497', 'n.id': 'BUAD 307'},\n",
       " {'m.id': 'BUAD 306', 'n.id': 'ECON 351'},\n",
       " {'m.id': 'ECON 351', 'n.id': 'MATH 118'},\n",
       " {'m.id': 'ECON 351', 'n.id': 'MATH 125'},\n",
       " {'m.id': 'ACCT 462', 'n.id': 'ACCT 370'},\n",
       " {'m.id': 'ACCT 463', 'n.id': 'ACCT 370'},\n",
       " {'m.id': 'ACCT 416', 'n.id': 'ACCT 370'},\n",
       " {'m.id': 'ACCT 470', 'n.id': 'ACCT 370'},\n",
       " {'m.id': 'ACCT 377', 'n.id': 'ACCT 370'},\n",
       " {'m.id': 'ACCT 373', 'n.id': 'ACCT 370'},\n",
       " {'m.id': 'ACCT 478', 'n.id': 'ACCT 371'},\n",
       " {'m.id': 'ACCT 475', 'n.id': 'ACCT 371'},\n",
       " {'m.id': 'ACCT 471', 'n.id': 'ACCT 371'},\n",
       " {'m.id': 'ACCT 373', 'n.id': 'ACCT 371'},\n",
       " {'m.id': 'ACCT 472', 'n.id': 'ACCT 372'},\n",
       " {'m.id': 'ACCT 430', 'n.id': 'ACCT 372'},\n",
       " {'m.id': 'ACCT 463', 'n.id': 'ACCT 373'},\n",
       " {'m.id': 'ACCT 473', 'n.id': 'ACCT 373'},\n",
       " {'m.id': 'ACCT 430', 'n.id': 'ACCT 373'},\n",
       " {'m.id': 'ACCT 474', 'n.id': 'ACCT 374'},\n",
       " {'m.id': 'ACCT 430', 'n.id': 'ACCT 374'},\n",
       " {'m.id': 'ACCT 477', 'n.id': 'ACCT 377'},\n",
       " {'m.id': 'ACCT 430', 'n.id': 'ACCT 377'},\n",
       " {'m.id': 'ACCT 479', 'n.id': 'ACCT 478'}]"
      ]
     },
     "execution_count": 15,
     "metadata": {},
     "output_type": "execute_result"
    }
   ],
   "source": [
    "graph.data(\"MATCH (m)-[:HasPrerequisite]->(n) \\\n",
    "        WHERE (m)-[:UnderProgram]->({name: 'Accounting (BS)'}) \\\n",
    "        and (n)-[:UnderProgram]->({name: 'Accounting (BS)'}) \\\n",
    "        RETURN m.id, n.id\")"
   ]
  },
  {
   "cell_type": "code",
   "execution_count": 19,
   "metadata": {},
   "outputs": [
    {
     "name": "stdout",
     "output_type": "stream",
     "text": [
      "['MATH 118', 'BUAD 302', 'BUAD 307', 'MATH 125', 'BUAD 280', 'BUAD 304']\n"
     ]
    }
   ],
   "source": [
    "adjPair = graph.data(\"MATCH (m)-[:HasPrerequisite]->(n) \\\n",
    "        WHERE (m)-[:UnderProgram]->({name: 'Accounting (BS)'}) \\\n",
    "        and (n)-[:UnderProgram]->({name: 'Accounting (BS)'}) \\\n",
    "        RETURN m.id, n.id\")\n",
    "    # if you take m, must first take n\n",
    "courselist = []\n",
    "for i in adjPair:\n",
    "    courselist += [i[\"m.id\"], i[\"n.id\"]]\n",
    "courselist = list(set(courselist))\n",
    "adjList = {i:[] for i in courselist}\n",
    "indegree = {i: 0 for i in courselist}\n",
    "# for post in adjList:\n",
    "#     for edge in adjPair:\n",
    "#         if edge[\"m.id\"] == post:\n",
    "#             adjList[post].append(edge[\"n.id\"])\n",
    "for edge in adjPair:\n",
    "    adjList[edge[\"m.id\"]].append(edge[\"n.id\"])\n",
    "    indegree[edge[\"n.id\"]] += 1\n",
    "# startnodes = [i for i in adjList if len(adjList[i]) == 0]\n",
    "import queue\n",
    "queue = queue.Queue(maxsize = len(courselist))\n",
    "for i in adjList:\n",
    "    if len(adjList[i]) == 0:\n",
    "        queue.put(i)\n",
    "order = []\n",
    "while not queue.empty():\n",
    "    node = queue.get()\n",
    "    order.append(node)\n",
    "    for x in adjList[node]:\n",
    "        indegree[x] -= 1\n",
    "        if indegree[x] == 0:\n",
    "            queue.put(x)\n",
    "print(order)"
   ]
  },
  {
   "cell_type": "code",
   "execution_count": 83,
   "metadata": {},
   "outputs": [
    {
     "name": "stdout",
     "output_type": "stream",
     "text": [
      "['BUAD 280', 'MATH 118', 'MATH 125', 'ECON 351', 'BUAD 306', 'BUAD 281', 'ACCT 370', 'ACCT 371', 'ACCT 373', 'ACCT 377', 'ACCT 416', 'ACCT 462', 'ACCT 476', 'BUAD 302', 'BUAD 307', 'ACCT 477', 'ACCT 478', 'ACCT 473', 'ACCT 475', 'ACCT 463', 'BUAD 304', 'BUAD 497', 'ACCT 479', 'ACCT 374', 'ACCT 474', 'ACCT 470', 'ACCT 471', 'ACCT 372', 'ACCT 472', 'ACCT 430']\n",
      "[{'m.name': 'Accounting: Principles of Financial Accounting'}]\n",
      "[]\n",
      "[{'m.name': 'Single Variable Calculus'}]\n",
      "[{'m.name': 'Strategic Business Management - Microeconomics'}]\n",
      "[{'m.name': 'Business English: Finance and Economics'}]\n",
      "[{'m.name': 'Managerial Accounting: Cost Behaviors, Systems, and Analysis'}]\n",
      "[]\n",
      "[{'m.name': 'Accounting and Finance for IT professionals'}]\n",
      "[]\n",
      "[]\n",
      "[{'m.name': 'More Introduction to Financial Accounting'}]\n",
      "[]\n",
      "[{'m.name': 'Measurement and data '}]\n",
      "[]\n",
      "[{'m.name': 'Digital Marketing Fundamentals'}]\n",
      "[]\n",
      "[{'m.name': 'More Introduction to Financial Accounting'}]\n",
      "[]\n",
      "[{'m.name': 'Cyber-Physical Systems Security'}]\n",
      "[]\n",
      "[{'m.name': 'International Leadership and Organizational Behavior'}]\n",
      "[{'m.name': 'Strategic Business Management - Macroeconomics'}]\n",
      "[{'m.name': 'Accounting Analytics'}]\n",
      "[]\n",
      "[]\n",
      "[]\n",
      "[{'m.name': 'Accounting Analytics'}]\n",
      "[]\n",
      "[{'m.name': 'Managerial Accounting: Cost Behaviors, Systems, and Analysis'}]\n",
      "[{'m.name': 'Accounting Analytics'}]\n"
     ]
    },
    {
     "data": {
      "text/plain": [
       "'[{\"code\": \"BUAD 280\", \"name\": \"BUAD 280 Introduction to Financial Accounting\", \"mooc\": \"Accounting: Principles of Financial Accounting\", \"url\": \"http://www.coursera.org/specializations/foundations-management\", \"image\": \"https://d3njjcbhbojbot.cloudfront.net/api/utilities/v1/imageproxy/https://coursera-course-photos.s3.amazonaws.com/f2/fdfaf0f9a511e6a5f4effa0e2c4d64/investigaci_n-de-mercados-y-comportamiento.jpg?auto=format%2Ccompress&dpr=1&w=100&h=100&fit=fill&bg=FFF\"}, {\"code\": \"MATH 118\", \"name\": \"MATH 118gx Fundamental Principles of Calculus\", \"mooc\": null, \"url\": null, \"image\": null}, {\"code\": \"MATH 125\", \"name\": \"MATH 125g Calculus I\", \"mooc\": \"Single Variable Calculus\", \"url\": \"http://www.coursera.org/learn/discrete-calculus\", \"image\": \"https://d3njjcbhbojbot.cloudfront.net/api/utilities/v1/imageproxy/https://coursera-course-photos.s3.amazonaws.com/05/cda840977511e5aa161903ab17f92e/CSV-logo-chapter-5-copy.jpg?auto=format%2Ccompress&dpr=1&w=100&h=100&fit=fill&bg=FFF\"}, {\"code\": \"ECON 351\", \"name\": \"ECON 351x Microeconomics for Business\", \"mooc\": \"Strategic Business Management - Microeconomics\", \"url\": \"http://www.coursera.org/learn/parprog1\", \"image\": \"https://d3njjcbhbojbot.cloudfront.net/api/utilities/v1/imageproxy/https://coursera-course-photos.s3.amazonaws.com/06/ab77207de611e78b8cbf6b7d2487ac/image-1.jpg?auto=format%2Ccompress&dpr=1&w=100&h=100&fit=fill&bg=FFF\"}, {\"code\": \"BUAD 306\", \"name\": \"BUAD 306 Business Finance\", \"mooc\": \"Business English: Finance and Economics\", \"url\": \"http://www.coursera.org/specializations/english-for-business\", \"image\": \"https://d3njjcbhbojbot.cloudfront.net/api/utilities/v1/imageproxy/https://coursera-course-photos.s3.amazonaws.com/4c/868cb0658911e6892f017139b2b060/coursera-ma-thumbnail.jpg?auto=format%2Ccompress&dpr=1&w=100&h=100&fit=fill&bg=FFF\"}, {\"code\": \"BUAD 281\", \"name\": \"BUAD 281 Introduction to Managerial Accounting\", \"mooc\": \"Managerial Accounting: Cost Behaviors, Systems, and Analysis\", \"url\": \"http://www.coursera.org/specializations/value-chain-management\", \"image\": \"https://d3njjcbhbojbot.cloudfront.net/api/utilities/v1/imageproxy/https://d396qusza40orc.cloudfront.net/phoenixassets/learn-finance/BNY_Specialization_Banner_logo.jpg?auto=format%2Ccompress&dpr=1&w=100&h=100&fit=fill&bg=FFF\"}, {\"code\": \"ACCT 370\", \"name\": \"ACCT 370 External Financial Reporting Issues\", \"mooc\": null, \"url\": null, \"image\": null}, {\"code\": \"ACCT 371\", \"name\": \"ACCT 371 Introduction to Accounting Systems\", \"mooc\": \"Accounting and Finance for IT professionals\", \"url\": \"http://www.coursera.org/specializations/business-technology-managment\", \"image\": \"https://d3njjcbhbojbot.cloudfront.net/api/utilities/v1/imageproxy/https://d15cw65ipctsrr.cloudfront.net/dd/7ae3d0bd8411e6834f83bd22b5a2e6/PositivePsychology_MOOC_Icons_Specialization.jpg?auto=format%2Ccompress&dpr=1&w=100&h=100&fit=fill&bg=FFF\"}, {\"code\": \"ACCT 373\", \"name\": \"ACCT 373 Introduction to Auditing and Assurance Services\", \"mooc\": null, \"url\": null, \"image\": null}, {\"code\": \"ACCT 377\", \"name\": \"ACCT 377 Valuation for Financial Statement Purposes\", \"mooc\": null, \"url\": null, \"image\": null}, {\"code\": \"ACCT 416\", \"name\": \"ACCT 416 Financial Reporting and Analysis\", \"mooc\": \"More Introduction to Financial Accounting\", \"url\": \"http://www.coursera.org/learn/wharton-financial-accounting\", \"image\": \"https://d3njjcbhbojbot.cloudfront.net/api/utilities/v1/imageproxy/https://coursera-course-photos.s3.amazonaws.com/3e/b505c0ee7611e4890b43504b150d21/online_learning_slide_vAccounting.jpg?auto=format%2Ccompress&dpr=1&w=100&h=100&fit=fill&bg=FFF\"}, {\"code\": \"ACCT 462\", \"name\": \"ACCT 462 Detecting Fraudulent Financial Reporting\", \"mooc\": null, \"url\": null, \"image\": null}, {\"code\": \"ACCT 476\", \"name\": \"ACCT 476 Performance Measurement Issues\", \"mooc\": \"Measurement and data \", \"url\": \"https://www.khanacademy.org/math/cc-2nd-grade-math/cc-2nd-measurement-data\", \"image\": \"https://encrypted-tbn0.gstatic.com/images?q=tbn:ANd9GcTWVTAsQKuMSTnREno6zNLCslVti6JN7G9RHpDFXaikAiF36rquQakV1igF\"}, {\"code\": \"BUAD 302\", \"name\": \"BUAD 302T Communication Strategy in Accounting\", \"mooc\": null, \"url\": null, \"image\": null}, {\"code\": \"BUAD 307\", \"name\": \"BUAD 307 Marketing Fundamentals\", \"mooc\": \"Digital Marketing Fundamentals\", \"url\": \"https://www.udacity.com/course/digital-marketing-fundamentals--cx11\", \"image\": \"https://s3-us-west-1.amazonaws.com/udacity-content/course-images/cx11-e152d95.jpg\"}, {\"code\": \"ACCT 477\", \"name\": \"ACCT 477 Intermediate Fair Value Issues in Accounting\", \"mooc\": null, \"url\": null, \"image\": null}, {\"code\": \"ACCT 478\", \"name\": \"ACCT 478 Accounting Systems Design\", \"mooc\": \"More Introduction to Financial Accounting\", \"url\": \"http://www.coursera.org/learn/wharton-financial-accounting\", \"image\": \"https://d3njjcbhbojbot.cloudfront.net/api/utilities/v1/imageproxy/https://coursera-course-photos.s3.amazonaws.com/3e/b505c0ee7611e4890b43504b150d21/online_learning_slide_vAccounting.jpg?auto=format%2Ccompress&dpr=1&w=100&h=100&fit=fill&bg=FFF\"}, {\"code\": \"ACCT 473\", \"name\": \"ACCT 473 Financial Statement Auditing\", \"mooc\": null, \"url\": null, \"image\": null}, {\"code\": \"ACCT 475\", \"name\": \"ACCT 475 Systems Security and Audit\", \"mooc\": \"Cyber-Physical Systems Security\", \"url\": \"https://www.udacity.com/course/cyber-physical-systems-security--ud279\", \"image\": \"https://lh3.googleusercontent.com/pjV2kaEQlQuzZSTR8YwIYyDieRxdfH6i0QfGzSCI1iTawtnhYJmbn2RC0rXdsnSGf6FaoIuLHE11NyFL=s0#w=1280&h=720=s276#w=1724&h=1060\"}, {\"code\": \"ACCT 463\", \"name\": \"ACCT 463 Internal Audit\", \"mooc\": null, \"url\": null, \"image\": null}, {\"code\": \"BUAD 304\", \"name\": \"BUAD 304 Organizational Behavior and Leadership\", \"mooc\": \"International Leadership and Organizational Behavior\", \"url\": \"http://www.coursera.org/learn/academic-discussion-english\", \"image\": \"https://d3njjcbhbojbot.cloudfront.net/api/utilities/v1/imageproxy/https://coursera-course-photos.s3.amazonaws.com/62/58d990f18cd48083251c3e57fe9e7e/Untitled-1.jpg?auto=format%2Ccompress&dpr=1&w=100&h=100&fit=fill&bg=FFF\"}, {\"code\": \"BUAD 497\", \"name\": \"BUAD 497 Strategic Management\", \"mooc\": \"Strategic Business Management - Macroeconomics\", \"url\": \"http://www.coursera.org/learn/trigonometry\", \"image\": \"https://d3njjcbhbojbot.cloudfront.net/api/utilities/v1/imageproxy/https://coursera-course-photos.s3.amazonaws.com/d3/d90f107de511e7b945f75a7283d500/image-2.jpg?auto=format%2Ccompress&dpr=1&w=100&h=100&fit=fill&bg=FFF\"}, {\"code\": \"ACCT 479\", \"name\": \"ACCT 479 Accounting Systems Development\", \"mooc\": \"Accounting Analytics\", \"url\": \"http://www.coursera.org/specializations/business-analytics\", \"image\": \"https://d3njjcbhbojbot.cloudfront.net/api/utilities/v1/imageproxy/https://coursera-course-photos.s3.amazonaws.com/ef/485800fcfd11e6b4cc3359e41f40e9/Pricing-Strategy.jpg?auto=format%2Ccompress&dpr=1&w=100&h=100&fit=fill&bg=FFF\"}, {\"code\": \"ACCT 374\", \"name\": \"ACCT 374 Introduction to Tax Issues\", \"mooc\": null, \"url\": null, \"image\": null}, {\"code\": \"ACCT 474\", \"name\": \"ACCT 474 Tax Issues for Business\", \"mooc\": null, \"url\": null, \"image\": null}, {\"code\": \"ACCT 470\", \"name\": \"ACCT 470 Advanced External Financial Reporting Issues\", \"mooc\": null, \"url\": null, \"image\": null}, {\"code\": \"ACCT 471\", \"name\": \"ACCT 471 Accounting Information Systems\", \"mooc\": \"Accounting Analytics\", \"url\": \"http://www.coursera.org/specializations/business-analytics\", \"image\": \"https://d3njjcbhbojbot.cloudfront.net/api/utilities/v1/imageproxy/https://coursera-course-photos.s3.amazonaws.com/e7/871c10757e11e7817cc9840feed7fa/enigma_rotors_with_alphabet_rings_cropped.jpg?auto=format%2Ccompress&dpr=1&w=100&h=100&fit=fill&bg=FFF\"}, {\"code\": \"ACCT 372\", \"name\": \"ACCT 372 Internal Reporting Issues\", \"mooc\": null, \"url\": null, \"image\": null}, {\"code\": \"ACCT 472\", \"name\": \"ACCT 472 Managerial Accounting\", \"mooc\": \"Managerial Accounting: Cost Behaviors, Systems, and Analysis\", \"url\": \"http://www.coursera.org/specializations/value-chain-management\", \"image\": \"https://d3njjcbhbojbot.cloudfront.net/api/utilities/v1/imageproxy/https://d396qusza40orc.cloudfront.net/phoenixassets/learn-finance/BNY_Specialization_Banner_logo.jpg?auto=format%2Ccompress&dpr=1&w=100&h=100&fit=fill&bg=FFF\"}, {\"code\": \"ACCT 430\", \"name\": \"ACCT 430 Accounting Ethics\", \"mooc\": \"Accounting Analytics\", \"url\": \"http://www.coursera.org/specializations/business-analytics\", \"image\": \"https://d3njjcbhbojbot.cloudfront.net/api/utilities/v1/imageproxy/https://coursera-course-photos.s3.amazonaws.com/ef/485800fcfd11e6b4cc3359e41f40e9/Pricing-Strategy.jpg?auto=format%2Ccompress&dpr=1&w=100&h=100&fit=fill&bg=FFF\"}]'"
      ]
     },
     "execution_count": 83,
     "metadata": {},
     "output_type": "execute_result"
    }
   ],
   "source": [
    "from py2neo import Graph\n",
    "from collections import defaultdict\n",
    "graph = Graph(\"http://localhost:7474/db/data/\")\n",
    "adjPair = graph.data(\"MATCH (m)-[:HasPrerequisite]->(n) \\\n",
    "        WHERE (m)-[:UnderProgram]->({name: 'Accounting (BS)'}) \\\n",
    "        and (n)-[:UnderProgram]->({name: 'Accounting (BS)'}) \\\n",
    "        RETURN m.id, n.id\")\n",
    "class Prerequisite:\n",
    "    def __init__(self, courselist):\n",
    "        self.graph = defaultdict(list) \n",
    "        self.vertices = courselist\n",
    " \n",
    "    def addEdge(self, u, v):\n",
    "        self.graph[u].append(v)\n",
    " \n",
    "    def dfs(self, v, visit, order):\n",
    "        visit[v] = True\n",
    "        for u in self.graph[v]:\n",
    "            if visit[u] == False:\n",
    "                self.dfs(u, visit, order)\n",
    "        order.insert(0, v)\n",
    " \n",
    "    def tps(self):\n",
    "        visit = {v: False for v in self.vertices}\n",
    "        order =[]\n",
    "        for v in self.vertices:\n",
    "            if visit[v] == False:\n",
    "                self.dfs(v, visit, order)\n",
    "        return order\n",
    "    \n",
    "g = Prerequisite(courselist)\n",
    "for edge in adjPair:\n",
    "    g.addEdge(edge[\"m.id\"], edge[\"n.id\"])\n",
    "# MATCH (n:Course{id:\"BUAD 280\"}) RETURN n\n",
    "toposort = g.tps()\n",
    "print(toposort[::-1])\n",
    "nodes = []\n",
    "course = list()\n",
    "relation = list()\n",
    "relat = []\n",
    "import pandas as pd\n",
    "for id in toposort[::-1]:\n",
    "    dic = {}\n",
    "    node = graph.data(\"Match (n:Course{id:'\" + id + \"'}) RETURN n\")\n",
    "    coursename = graph.data(\"Match (n:Course{id:'\" + id + \"'}) RETURN n.name\")[0]\n",
    "    coursedesc = graph.data(\"Match (n:Course{id:'\" + id + \"'}) RETURN n.description\")[0]\n",
    "    mooc = graph.data(\"MATCH p = (n:Course{id:'\"+ id + \"'})-[r:SimilarTo]->(m:MOOC) RETURN m.name limit 1\")\n",
    "    image = graph.data(\"MATCH p = (n:Course{id:'\"+ id + \"'})-[r:SimilarTo]->(m:MOOC) RETURN m.image limit 1\")\n",
    "    url = graph.data(\"MATCH p = (n:Course{id:'\"+ id + \"'})-[r:SimilarTo]->(m:MOOC) RETURN m.url limit 1\")\n",
    "    print(mooc)\n",
    "    dic[\"code\"] = id\n",
    "    dic[\"name\"] = coursename[\"n.name\"]\n",
    "    dic[\"mooc\"] = \"\"\n",
    "    dic[\"url\"] = \"\"\n",
    "    dic[\"image\"] = \"\"\n",
    "    if len(mooc) != 0:\n",
    "        rlist = [id, coursename[\"n.name\"], mooc[0][\"m.name\"], image[0][\"m.image\"], url[0][\"m.url\"]]\n",
    "        relation.append(rlist)\n",
    "        dic[\"mooc\"], dic[\"image\"], dic[\"url\"] = rlist[2], rlist[3], rlist[4]\n",
    "    relat.append(dic)\n",
    "    nodes += node\n",
    "    course.append([id, coursename[\"n.name\"], coursedesc[\"n.description\"]])\n",
    "course_df = pd.DataFrame(course)\n",
    "relation_df = pd.DataFrame(relation)\n",
    "relat\n",
    "relation_df\n",
    "import json\n",
    "j = json.dumps(relat)\n",
    "j\n",
    "# course_df\n",
    "# nodes\n",
    "# print(nodes)\n",
    "\n"
   ]
  },
  {
   "cell_type": "code",
   "execution_count": null,
   "metadata": {},
   "outputs": [],
   "source": []
  }
 ],
 "metadata": {
  "kernelspec": {
   "display_name": "Python 3",
   "language": "python",
   "name": "python3"
  },
  "language_info": {
   "codemirror_mode": {
    "name": "ipython",
    "version": 3
   },
   "file_extension": ".py",
   "mimetype": "text/x-python",
   "name": "python",
   "nbconvert_exporter": "python",
   "pygments_lexer": "ipython3",
   "version": "3.6.2"
  }
 },
 "nbformat": 4,
 "nbformat_minor": 2
}
